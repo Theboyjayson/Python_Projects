{
 "cells": [
  {
   "cell_type": "code",
   "execution_count": 303,
   "id": "02a1467d",
   "metadata": {},
   "outputs": [],
   "source": [
    "###TASK 1\n",
    "#dataset: Pizza sales\n",
    "#url:https://www.kaggle.com/datasets/shilongzhuang/pizza-sales"
   ]
  },
  {
   "cell_type": "code",
   "execution_count": 3,
   "id": "3b1f29dc",
   "metadata": {},
   "outputs": [],
   "source": [
    "import csv\n",
    "import time\n",
    "start = time.time()\n",
    "pizza_sales = csv.reader(open('pizza_sales.csv', 'r',encoding = 'utf-8-sig'), delimiter = ',')\n",
    "pizza_sales = list(pizza_sales)"
   ]
  },
  {
   "cell_type": "code",
   "execution_count": 4,
   "id": "f212518e",
   "metadata": {},
   "outputs": [
    {
     "data": {
      "text/plain": [
       "list"
      ]
     },
     "execution_count": 4,
     "metadata": {},
     "output_type": "execute_result"
    }
   ],
   "source": [
    "#dateset type\n",
    "type(pizza_sales)"
   ]
  },
  {
   "cell_type": "code",
   "execution_count": 5,
   "id": "3a55d267",
   "metadata": {},
   "outputs": [
    {
     "data": {
      "text/plain": [
       "48621"
      ]
     },
     "execution_count": 5,
     "metadata": {},
     "output_type": "execute_result"
    }
   ],
   "source": [
    "# number of rows \n",
    "len(pizza_sales)"
   ]
  },
  {
   "cell_type": "code",
   "execution_count": 6,
   "id": "61b47298",
   "metadata": {},
   "outputs": [
    {
     "data": {
      "text/plain": [
       "12"
      ]
     },
     "execution_count": 6,
     "metadata": {},
     "output_type": "execute_result"
    }
   ],
   "source": [
    "#number of columns\n",
    "len(pizza_sales[1])"
   ]
  },
  {
   "cell_type": "code",
   "execution_count": 7,
   "id": "9ec6b8f6",
   "metadata": {},
   "outputs": [],
   "source": [
    "# function\n",
    "def get_column(column_index):\n",
    "    column =[]\n",
    "    for i in range(len(pizza_sales)):\n",
    "        column.append(pizza_sales[i][column_index])\n",
    "    return column"
   ]
  },
  {
   "cell_type": "code",
   "execution_count": 8,
   "id": "a21e39a7",
   "metadata": {},
   "outputs": [],
   "source": [
    "#function to get total_price column\n",
    "get_index = pizza_sales[0].index('total_price')\n",
    "total_price = get_column(get_index)"
   ]
  },
  {
   "cell_type": "code",
   "execution_count": 9,
   "id": "684c8a0d",
   "metadata": {},
   "outputs": [],
   "source": [
    "#function2\n",
    "def pizza_price(index):\n",
    "    price_list = []\n",
    "    for i in total_price[1:]:\n",
    "        price_list.append(float(i))\n",
    "    return price_list"
   ]
  },
  {
   "cell_type": "code",
   "execution_count": 10,
   "id": "3c811e82",
   "metadata": {},
   "outputs": [
    {
     "name": "stdout",
     "output_type": "stream",
     "text": [
      "Total Price of Pizza Sold: 817860\n"
     ]
    }
   ],
   "source": [
    "#total price of pizza ordered in the pizza restaurant(total revenue)\n",
    "get_index =  pizza_sales[0].index('total_price')\n",
    "print('Total Price of Pizza Sold:',round(sum(pizza_price(get_index))))"
   ]
  },
  {
   "cell_type": "code",
   "execution_count": 21,
   "id": "80de8c52",
   "metadata": {},
   "outputs": [
    {
     "name": "stdout",
     "output_type": "stream",
     "text": [
      "The maximum total order price is 83.0\n",
      "The minimum total order price is 9.75\n",
      "The average order price is 16.82\n"
     ]
    }
   ],
   "source": [
    "#maximum total order price in the pizza restaurant\n",
    "#minimum total order price in the pizza restaurant\n",
    "#average total order price in the pizza restaurant\n",
    "get_index =  pizza_sales[0].index('total_price')\n",
    "price  = pizza_price(get_index)\n",
    "    \n",
    "max_tot_price = max(price)\n",
    "min_tot_price = min(price)\n",
    "avg_tot_price = sum(price)/len(price)\n",
    "\n",
    "print(\"The maximum total order price is\",max_tot_price)\n",
    "print(\"The minimum total order price is\",min_tot_price)\n",
    "print(\"The average order price is\",round(avg_tot_price,2))"
   ]
  },
  {
   "cell_type": "code",
   "execution_count": 11,
   "id": "ae97990e",
   "metadata": {},
   "outputs": [],
   "source": [
    "#get the unit price column\n",
    "get_index = pizza_sales[0].index('unit_price')\n",
    "unit_price = get_column(get_index)"
   ]
  },
  {
   "cell_type": "code",
   "execution_count": 23,
   "id": "58022b83",
   "metadata": {},
   "outputs": [
    {
     "name": "stdout",
     "output_type": "stream",
     "text": [
      "801944.7\n"
     ]
    }
   ],
   "source": [
    "#total unit price of pizza ordered in the pizza restaurant\n",
    "total_unit_price = []\n",
    "\n",
    "for i in unit_price[1:]:\n",
    "    total_unit_price.append(float(i))\n",
    "print(round(sum(total_unit_price),2))"
   ]
  },
  {
   "cell_type": "code",
   "execution_count": 24,
   "id": "d2c744a9",
   "metadata": {},
   "outputs": [
    {
     "name": "stdout",
     "output_type": "stream",
     "text": [
      "The maximum total order price is 35.95\n",
      "The minimum total order price is 9.75\n",
      "The average order price is 16.49\n"
     ]
    }
   ],
   "source": [
    "#maximum unit price in the pizza restaurant\n",
    "#minimum unit price in the pizza restaurant\n",
    "#average unit price in the pizza restaurant\n",
    "unit_list = []\n",
    "for i in unit_price[1:]:\n",
    "    unit_list.append(float(i))\n",
    "max_unit_price = max(unit_list)\n",
    "min_unit_price = min(unit_list)\n",
    "avg_unit_price = sum(unit_list)/len(unit_list)\n",
    "\n",
    "print(\"The maximum total order price is\",max_unit_price)\n",
    "print(\"The minimum total order price is\",min_unit_price)\n",
    "print(\"The average order price is\",round(avg_unit_price,2))"
   ]
  },
  {
   "cell_type": "code",
   "execution_count": 12,
   "id": "c7a9a234",
   "metadata": {},
   "outputs": [],
   "source": [
    "#get pizza name column\n",
    "get_index = pizza_sales[0].index('pizza_name')\n",
    "pizza_name = get_column(get_index)"
   ]
  },
  {
   "cell_type": "code",
   "execution_count": 13,
   "id": "17f17bcf",
   "metadata": {},
   "outputs": [
    {
     "data": {
      "text/plain": [
       "{'The Hawaiian Pizza': 2370,\n",
       " 'The Classic Deluxe Pizza': 2416,\n",
       " 'The Five Cheese Pizza': 1359,\n",
       " 'The Italian Supreme Pizza': 1849,\n",
       " 'The Mexicana Pizza': 1456,\n",
       " 'The Thai Chicken Pizza': 2315,\n",
       " 'The Prosciutto and Arugula Pizza': 1428,\n",
       " 'The Barbecue Chicken Pizza': 2372,\n",
       " 'The Greek Pizza': 1406,\n",
       " 'The Spinach Supreme Pizza': 940,\n",
       " 'The Green Garden Pizza': 987,\n",
       " 'The Italian Capocollo Pizza': 1414,\n",
       " 'The Spicy Italian Pizza': 1887,\n",
       " 'The Spinach Pesto Pizza': 957,\n",
       " 'The Vegetables + Vegetables Pizza': 1510,\n",
       " 'The Southwest Chicken Pizza': 1885,\n",
       " 'The California Chicken Pizza': 2302,\n",
       " 'The Pepperoni Pizza': 2369,\n",
       " 'The Chicken Pesto Pizza': 961,\n",
       " 'The Big Meat Pizza': 1811,\n",
       " 'The Soppressata Pizza': 957,\n",
       " 'The Four Cheese Pizza': 1850,\n",
       " 'The Napolitana Pizza': 1451,\n",
       " 'The Calabrese Pizza': 927,\n",
       " 'The Italian Vegetables Pizza': 975,\n",
       " 'The Mediterranean Pizza': 923,\n",
       " 'The Pepper Salami Pizza': 1422,\n",
       " 'The Spinach and Feta Pizza': 1432,\n",
       " 'The Sicilian Pizza': 1887,\n",
       " 'The Chicken Alfredo Pizza': 980,\n",
       " 'The Pepperoni, Mushroom, and Peppers Pizza': 1342,\n",
       " 'The Brie Carre Pizza': 480}"
      ]
     },
     "execution_count": 13,
     "metadata": {},
     "output_type": "execute_result"
    }
   ],
   "source": [
    "#pizza name and total quantity ordered\n",
    "pizza_names = {}\n",
    "for x in range(1,len(total_price)):\n",
    "    pizza = pizza_name[x]\n",
    "    if pizza in pizza_names:\n",
    "        pizza_names[pizza] += 1\n",
    "    else:\n",
    "        pizza_names[pizza] = 1\n",
    "pizza_names"
   ]
  },
  {
   "cell_type": "code",
   "execution_count": 14,
   "id": "fdb6f695",
   "metadata": {},
   "outputs": [],
   "source": [
    "#get quantity column\n",
    "get_index3 = pizza_sales[0].index('quantity')\n",
    "quantity = get_column(get_index3)"
   ]
  },
  {
   "cell_type": "code",
   "execution_count": 28,
   "id": "a25fbc9f",
   "metadata": {},
   "outputs": [
    {
     "name": "stdout",
     "output_type": "stream",
     "text": [
      "49574\n"
     ]
    }
   ],
   "source": [
    "#quantity(total order)\n",
    "quantity_list = []\n",
    "for i in quantity[1:]:\n",
    "    quantity_list.append(int(i))\n",
    "print(sum(quantity_list))"
   ]
  },
  {
   "cell_type": "code",
   "execution_count": 15,
   "id": "333fed37",
   "metadata": {},
   "outputs": [
    {
     "data": {
      "text/plain": [
       "{'The Hawaiian Pizza': 32273.25,\n",
       " 'The Classic Deluxe Pizza': 38180.5,\n",
       " 'The Five Cheese Pizza': 26066.5,\n",
       " 'The Italian Supreme Pizza': 33476.75,\n",
       " 'The Mexicana Pizza': 26780.75,\n",
       " 'The Thai Chicken Pizza': 43434.25,\n",
       " 'The Prosciutto and Arugula Pizza': 24193.25,\n",
       " 'The Barbecue Chicken Pizza': 42755.25,\n",
       " 'The Greek Pizza': 28454.100000000013,\n",
       " 'The Spinach Supreme Pizza': 15277.75,\n",
       " 'The Green Garden Pizza': 13955.75,\n",
       " 'The Italian Capocollo Pizza': 25094.0,\n",
       " 'The Spicy Italian Pizza': 34831.25,\n",
       " 'The Spinach Pesto Pizza': 15596.0,\n",
       " 'The Vegetables + Vegetables Pizza': 24374.75,\n",
       " 'The Southwest Chicken Pizza': 34705.75,\n",
       " 'The California Chicken Pizza': 41409.5,\n",
       " 'The Pepperoni Pizza': 30161.75,\n",
       " 'The Chicken Pesto Pizza': 16701.75,\n",
       " 'The Big Meat Pizza': 22968.0,\n",
       " 'The Soppressata Pizza': 16425.75,\n",
       " 'The Four Cheese Pizza': 32265.70000000065,\n",
       " 'The Napolitana Pizza': 24087.0,\n",
       " 'The Calabrese Pizza': 15934.25,\n",
       " 'The Italian Vegetables Pizza': 16019.25,\n",
       " 'The Mediterranean Pizza': 15360.5,\n",
       " 'The Pepper Salami Pizza': 25529.0,\n",
       " 'The Spinach and Feta Pizza': 23271.25,\n",
       " 'The Sicilian Pizza': 30940.5,\n",
       " 'The Chicken Alfredo Pizza': 16900.25,\n",
       " 'The Pepperoni, Mushroom, and Peppers Pizza': 18834.5,\n",
       " 'The Brie Carre Pizza': 11588.4999999999}"
      ]
     },
     "execution_count": 15,
     "metadata": {},
     "output_type": "execute_result"
    }
   ],
   "source": [
    "#pizza name and total revenue generated\n",
    "pizza_dict = {}\n",
    "\n",
    "for i in range(1,len(total_price[1:])):\n",
    "    pizza = pizza_name[i]\n",
    "    if pizza in pizza_dict:\n",
    "        pizza_dict[pizza] += float(total_price[i])\n",
    "    else:\n",
    "        pizza_dict[pizza] = float(total_price[i])\n",
    "pizza_dict"
   ]
  },
  {
   "cell_type": "code",
   "execution_count": 30,
   "id": "fd7745ec",
   "metadata": {},
   "outputs": [
    {
     "data": {
      "text/plain": [
       "{'The Thai Chicken Pizza': 43434.25}"
      ]
     },
     "execution_count": 30,
     "metadata": {},
     "output_type": "execute_result"
    }
   ],
   "source": [
    "# pizza with the higest sale\n",
    "max_value = 0\n",
    "max_pizza = {}\n",
    "\n",
    "for key,value in pizza_dict.items():\n",
    "    if value > max_value: \n",
    "        max_pizza = {}\n",
    "        max_pizza[key] = value\n",
    "        max_value = value\n",
    "\n",
    "max_pizza"
   ]
  },
  {
   "cell_type": "code",
   "execution_count": 31,
   "id": "bf00f251",
   "metadata": {},
   "outputs": [
    {
     "data": {
      "text/plain": [
       "{'The Brie Carre Pizza': 11588.4999999999}"
      ]
     },
     "execution_count": 31,
     "metadata": {},
     "output_type": "execute_result"
    }
   ],
   "source": [
    "# pizza with the least sale\n",
    "start_value = list(max_pizza.values())\n",
    "min_pizza = {}\n",
    "\n",
    "for key,value in pizza_dict.items():\n",
    "    if value < start_value[0]: \n",
    "        min_pizza = {}\n",
    "        min_pizza[key] = value\n",
    "#         start_value = value\n",
    "\n",
    "min_pizza"
   ]
  },
  {
   "cell_type": "code",
   "execution_count": 32,
   "id": "17236ac5",
   "metadata": {},
   "outputs": [
    {
     "data": {
      "text/plain": [
       "{'M': 249382.25,\n",
       " 'L': 375318.7000000087,\n",
       " 'S': 178063.74999999843,\n",
       " 'XL': 14076.0,\n",
       " 'XXL': 1006.6000000000005}"
      ]
     },
     "execution_count": 32,
     "metadata": {},
     "output_type": "execute_result"
    }
   ],
   "source": [
    "#pizza size and revenune\n",
    "get_index = pizza_sales[0].index('pizza_size')\n",
    "pizza_size = get_column(get_index)\n",
    "pizza_size\n",
    "\n",
    "pizza_dict = {}\n",
    "\n",
    "for i in range(1,len(total_price[1:])):\n",
    "    pizza = pizza_size[i]\n",
    "    if pizza in pizza_dict:\n",
    "        pizza_dict[pizza] += round(float(total_price[i]),2)\n",
    "    else:\n",
    "        pizza_dict[pizza] = round(float(total_price[i]),2)\n",
    "pizza_dict"
   ]
  },
  {
   "cell_type": "code",
   "execution_count": 33,
   "id": "538bad60",
   "metadata": {},
   "outputs": [
    {
     "data": {
      "text/plain": [
       "{'Classic': 217843, 'Veggie': 192631, 'Supreme': 206156, 'Chicken': 198663}"
      ]
     },
     "execution_count": 33,
     "metadata": {},
     "output_type": "execute_result"
    }
   ],
   "source": [
    "#pizza category and revenue\n",
    "get_index = pizza_sales[0].index('pizza_category')\n",
    "pizza_size = get_column(get_index)\n",
    "pizza_size\n",
    "\n",
    "pizza_dict = {}\n",
    "\n",
    "for i in range(1,len(total_price[1:])):\n",
    "    pizza = pizza_size[i]\n",
    "    if pizza in pizza_dict:\n",
    "        pizza_dict[pizza] += round(float(total_price[i]))\n",
    "    else:\n",
    "        pizza_dict[pizza] = round(float(total_price[i]))\n",
    "pizza_dict"
   ]
  },
  {
   "cell_type": "code",
   "execution_count": 490,
   "id": "ea7d1c48",
   "metadata": {},
   "outputs": [
    {
     "data": {
      "text/plain": [
       "1.4926648139953613"
      ]
     },
     "execution_count": 490,
     "metadata": {},
     "output_type": "execute_result"
    }
   ],
   "source": [
    "#time for code to run\n",
    "duration1 = time.time() - start\n",
    "duration1"
   ]
  },
  {
   "cell_type": "code",
   "execution_count": null,
   "id": "70ec9595",
   "metadata": {},
   "outputs": [],
   "source": []
  },
  {
   "cell_type": "code",
   "execution_count": null,
   "id": "daf391ef",
   "metadata": {},
   "outputs": [],
   "source": [
    "#run code for task1 after size of dataset(number of rows) is artificially increased\n",
    "#get the duration "
   ]
  },
  {
   "cell_type": "code",
   "execution_count": 491,
   "id": "186b4ebd",
   "metadata": {},
   "outputs": [
    {
     "name": "stdout",
     "output_type": "stream",
     "text": [
      "Total Price of Pizza Sold: 1144832\n",
      "The maximum total order price is 83.0\n",
      "The minimum total order price is 9.75\n",
      "The average order price is 16.81\n",
      "1122627.05\n",
      "The maximum total order price is 35.95\n",
      "The minimum total order price is 9.75\n",
      "The average order price is 16.49\n",
      "69432\n"
     ]
    },
    {
     "data": {
      "text/plain": [
       "2.189275026321411"
      ]
     },
     "execution_count": 491,
     "metadata": {},
     "output_type": "execute_result"
    }
   ],
   "source": [
    "import csv\n",
    "import time\n",
    "start = time.time()\n",
    "pizza_sales = csv.reader(open('pizza_sales1.csv', 'r',encoding = 'utf-8-sig'), delimiter = ',')\n",
    "pizza_sales = list(pizza_sales)\n",
    "pizza_sales\n",
    "\n",
    "#dateset type\n",
    "type(pizza_sales)\n",
    "\n",
    "# number of rows \n",
    "len(pizza_sales)\n",
    "\n",
    "#number of columns\n",
    "len(pizza_sales[1])\n",
    "\n",
    "# function\n",
    "def get_column(column_index):\n",
    "    column =[]\n",
    "    for i in range(len(pizza_sales)):\n",
    "        column.append(pizza_sales[i][column_index])\n",
    "    return column\n",
    "\n",
    "#function to get total_price column\n",
    "get_index = pizza_sales[0].index('total_price')\n",
    "total_price = get_column(get_index)\n",
    "total_price\n",
    "\n",
    "#function2\n",
    "def pizza_price(index):\n",
    "    price_list = []\n",
    "    for i in total_price[1:]:\n",
    "        price_list.append(float(i))\n",
    "    return price_list\n",
    "\n",
    "#total price of pizza ordered in the pizza restaurant(total revenue)\n",
    "get_index =  pizza_sales[0].index('total_price')\n",
    "print('Total Price of Pizza Sold:',round(sum(pizza_price(get_index))))\n",
    "\n",
    "#maximum total order price in the pizza restaurant\n",
    "#minimum total order price in the pizza restaurant\n",
    "#average total order price in the pizza restaurant\n",
    "get_index =  pizza_sales[0].index('total_price')\n",
    "price  = pizza_price(get_index)\n",
    "    \n",
    "max_tot_price = max(price)\n",
    "min_tot_price = min(price)\n",
    "avg_tot_price = sum(price)/len(price)\n",
    "\n",
    "print(\"The maximum total order price is\",max_tot_price)\n",
    "print(\"The minimum total order price is\",min_tot_price)\n",
    "print(\"The average order price is\",round(avg_tot_price,2))\n",
    "\n",
    "#get the unit price column\n",
    "get_index = pizza_sales[0].index('unit_price')\n",
    "unit_price = get_column(get_index)\n",
    "unit_price\n",
    "\n",
    "#total unit price of pizza ordered in the pizza restaurant\n",
    "total_unit_price = []\n",
    "\n",
    "for i in unit_price[1:]:\n",
    "    total_unit_price.append(float(i))\n",
    "print(round(sum(total_unit_price),2))\n",
    "\n",
    "#maximum unit price in the pizza restaurant\n",
    "#minimum unit price in the pizza restaurant\n",
    "#average unit price in the pizza restaurant\n",
    "unit_list = []\n",
    "for i in unit_price[1:]:\n",
    "    unit_list.append(float(i))\n",
    "max_unit_price = max(unit_list)\n",
    "min_unit_price = min(unit_list)\n",
    "avg_unit_price = sum(unit_list)/len(unit_list)\n",
    "\n",
    "print(\"The maximum total order price is\",max_unit_price)\n",
    "print(\"The minimum total order price is\",min_unit_price)\n",
    "print(\"The average order price is\",round(avg_unit_price,2))\n",
    "\n",
    "#get pizza name column\n",
    "get_index = pizza_sales[0].index('pizza_name')\n",
    "pizza_name = get_column(get_index)\n",
    "pizza_name\n",
    "\n",
    "#pizza name and total quantity ordered\n",
    "pizza_names = {}\n",
    "for x in range(1,len(total_price)):\n",
    "    pizza = pizza_name[x]\n",
    "    if pizza in pizza_names:\n",
    "        pizza_names[pizza] += 1\n",
    "    else:\n",
    "        pizza_names[pizza] = 1\n",
    "pizza_names\n",
    "\n",
    "#get quantity column\n",
    "get_index3 = pizza_sales[0].index('quantity')\n",
    "quantity = get_column(get_index3)\n",
    "quantity\n",
    "\n",
    "#quantity(total order)\n",
    "quantity_list = []\n",
    "for i in quantity[1:]:\n",
    "    quantity_list.append(int(i))\n",
    "print(sum(quantity_list))\n",
    "\n",
    "#pizza name and total revenue generated\n",
    "pizza_dict = {}\n",
    "\n",
    "for i in range(1,len(total_price[1:])):\n",
    "    pizza = pizza_name[i]\n",
    "    if pizza in pizza_dict:\n",
    "        pizza_dict[pizza] += float(total_price[i])\n",
    "    else:\n",
    "        pizza_dict[pizza] = float(total_price[i])\n",
    "pizza_dict\n",
    "\n",
    "# pizza with the higest sale\n",
    "max_value = 0\n",
    "max_pizza = {}\n",
    "\n",
    "for key,value in pizza_dict.items():\n",
    "    if value > max_value: \n",
    "        max_pizza = {}\n",
    "        max_pizza[key] = value\n",
    "        max_value = value\n",
    "\n",
    "max_pizza\n",
    "\n",
    "# pizza with the least sale\n",
    "start_value = list(max_pizza.values())\n",
    "min_pizza = {}\n",
    "\n",
    "for key,value in pizza_dict.items():\n",
    "    if value < start_value[0]: \n",
    "        min_pizza = {}\n",
    "        min_pizza[key] = value\n",
    "#         start_value = value\n",
    "\n",
    "min_pizza\n",
    "\n",
    "#pizza size and revenune\n",
    "get_index = pizza_sales[0].index('pizza_size')\n",
    "pizza_size = get_column(get_index)\n",
    "pizza_size\n",
    "\n",
    "pizza_dict = {}\n",
    "\n",
    "for i in range(1,len(total_price[1:])):\n",
    "    pizza = pizza_size[i]\n",
    "    if pizza in pizza_dict:\n",
    "        pizza_dict[pizza] += round(float(total_price[i]),2)\n",
    "    else:\n",
    "        pizza_dict[pizza] = round(float(total_price[i]),2)\n",
    "pizza_dict\n",
    "\n",
    "#pizza category and revenue\n",
    "get_index = pizza_sales[0].index('pizza_category')\n",
    "pizza_size = get_column(get_index)\n",
    "pizza_size\n",
    "\n",
    "pizza_dict = {}\n",
    "\n",
    "for i in range(1,len(total_price[1:])):\n",
    "    pizza = pizza_size[i]\n",
    "    if pizza in pizza_dict:\n",
    "        pizza_dict[pizza] += round(float(total_price[i]))\n",
    "    else:\n",
    "        pizza_dict[pizza] = round(float(total_price[i]))\n",
    "pizza_dict\n",
    "\n",
    "#time for code to run\n",
    "duration2 = time.time() - start\n",
    "duration2"
   ]
  },
  {
   "cell_type": "markdown",
   "id": "01dc57b4",
   "metadata": {},
   "source": [
    "### task 2"
   ]
  },
  {
   "cell_type": "code",
   "execution_count": 34,
   "id": "c8514d93",
   "metadata": {},
   "outputs": [],
   "source": [
    "import time\n",
    "start = time.time()\n",
    "import pandas as pd\n",
    "pizza_sales = pd.read_csv('pizza_sales.csv')"
   ]
  },
  {
   "cell_type": "code",
   "execution_count": 35,
   "id": "d2c3b18d",
   "metadata": {},
   "outputs": [
    {
     "data": {
      "text/html": [
       "<div>\n",
       "<style scoped>\n",
       "    .dataframe tbody tr th:only-of-type {\n",
       "        vertical-align: middle;\n",
       "    }\n",
       "\n",
       "    .dataframe tbody tr th {\n",
       "        vertical-align: top;\n",
       "    }\n",
       "\n",
       "    .dataframe thead th {\n",
       "        text-align: right;\n",
       "    }\n",
       "</style>\n",
       "<table border=\"1\" class=\"dataframe\">\n",
       "  <thead>\n",
       "    <tr style=\"text-align: right;\">\n",
       "      <th></th>\n",
       "      <th>order_details_id</th>\n",
       "      <th>order_id</th>\n",
       "      <th>pizza_id</th>\n",
       "      <th>quantity</th>\n",
       "      <th>order_date</th>\n",
       "      <th>order_time</th>\n",
       "      <th>unit_price</th>\n",
       "      <th>total_price</th>\n",
       "      <th>pizza_size</th>\n",
       "      <th>pizza_category</th>\n",
       "      <th>pizza_ingredients</th>\n",
       "      <th>pizza_name</th>\n",
       "    </tr>\n",
       "  </thead>\n",
       "  <tbody>\n",
       "    <tr>\n",
       "      <th>0</th>\n",
       "      <td>1</td>\n",
       "      <td>1</td>\n",
       "      <td>hawaiian_m</td>\n",
       "      <td>1</td>\n",
       "      <td>01/01/2015</td>\n",
       "      <td>11:38:36</td>\n",
       "      <td>13.25</td>\n",
       "      <td>13.25</td>\n",
       "      <td>M</td>\n",
       "      <td>Classic</td>\n",
       "      <td>Sliced Ham, Pineapple, Mozzarella Cheese</td>\n",
       "      <td>The Hawaiian Pizza</td>\n",
       "    </tr>\n",
       "    <tr>\n",
       "      <th>1</th>\n",
       "      <td>2</td>\n",
       "      <td>2</td>\n",
       "      <td>classic_dlx_m</td>\n",
       "      <td>1</td>\n",
       "      <td>01/01/2015</td>\n",
       "      <td>11:57:40</td>\n",
       "      <td>16.00</td>\n",
       "      <td>16.00</td>\n",
       "      <td>M</td>\n",
       "      <td>Classic</td>\n",
       "      <td>Pepperoni, Mushrooms, Red Onions, Red Peppers,...</td>\n",
       "      <td>The Classic Deluxe Pizza</td>\n",
       "    </tr>\n",
       "    <tr>\n",
       "      <th>2</th>\n",
       "      <td>3</td>\n",
       "      <td>2</td>\n",
       "      <td>five_cheese_l</td>\n",
       "      <td>1</td>\n",
       "      <td>01/01/2015</td>\n",
       "      <td>11:57:40</td>\n",
       "      <td>18.50</td>\n",
       "      <td>18.50</td>\n",
       "      <td>L</td>\n",
       "      <td>Veggie</td>\n",
       "      <td>Mozzarella Cheese, Provolone Cheese, Smoked Go...</td>\n",
       "      <td>The Five Cheese Pizza</td>\n",
       "    </tr>\n",
       "    <tr>\n",
       "      <th>3</th>\n",
       "      <td>4</td>\n",
       "      <td>2</td>\n",
       "      <td>ital_supr_l</td>\n",
       "      <td>1</td>\n",
       "      <td>01/01/2015</td>\n",
       "      <td>11:57:40</td>\n",
       "      <td>20.75</td>\n",
       "      <td>20.75</td>\n",
       "      <td>L</td>\n",
       "      <td>Supreme</td>\n",
       "      <td>Calabrese Salami, Capocollo, Tomatoes, Red Oni...</td>\n",
       "      <td>The Italian Supreme Pizza</td>\n",
       "    </tr>\n",
       "    <tr>\n",
       "      <th>4</th>\n",
       "      <td>5</td>\n",
       "      <td>2</td>\n",
       "      <td>mexicana_m</td>\n",
       "      <td>1</td>\n",
       "      <td>01/01/2015</td>\n",
       "      <td>11:57:40</td>\n",
       "      <td>16.00</td>\n",
       "      <td>16.00</td>\n",
       "      <td>M</td>\n",
       "      <td>Veggie</td>\n",
       "      <td>Tomatoes, Red Peppers, Jalapeno Peppers, Red O...</td>\n",
       "      <td>The Mexicana Pizza</td>\n",
       "    </tr>\n",
       "  </tbody>\n",
       "</table>\n",
       "</div>"
      ],
      "text/plain": [
       "   order_details_id  order_id       pizza_id  quantity  order_date order_time  \\\n",
       "0                 1         1     hawaiian_m         1  01/01/2015   11:38:36   \n",
       "1                 2         2  classic_dlx_m         1  01/01/2015   11:57:40   \n",
       "2                 3         2  five_cheese_l         1  01/01/2015   11:57:40   \n",
       "3                 4         2    ital_supr_l         1  01/01/2015   11:57:40   \n",
       "4                 5         2     mexicana_m         1  01/01/2015   11:57:40   \n",
       "\n",
       "   unit_price  total_price pizza_size pizza_category  \\\n",
       "0       13.25        13.25          M        Classic   \n",
       "1       16.00        16.00          M        Classic   \n",
       "2       18.50        18.50          L         Veggie   \n",
       "3       20.75        20.75          L        Supreme   \n",
       "4       16.00        16.00          M         Veggie   \n",
       "\n",
       "                                   pizza_ingredients  \\\n",
       "0           Sliced Ham, Pineapple, Mozzarella Cheese   \n",
       "1  Pepperoni, Mushrooms, Red Onions, Red Peppers,...   \n",
       "2  Mozzarella Cheese, Provolone Cheese, Smoked Go...   \n",
       "3  Calabrese Salami, Capocollo, Tomatoes, Red Oni...   \n",
       "4  Tomatoes, Red Peppers, Jalapeno Peppers, Red O...   \n",
       "\n",
       "                  pizza_name  \n",
       "0         The Hawaiian Pizza  \n",
       "1   The Classic Deluxe Pizza  \n",
       "2      The Five Cheese Pizza  \n",
       "3  The Italian Supreme Pizza  \n",
       "4         The Mexicana Pizza  "
      ]
     },
     "execution_count": 35,
     "metadata": {},
     "output_type": "execute_result"
    }
   ],
   "source": [
    "pizza_sales.head()"
   ]
  },
  {
   "cell_type": "code",
   "execution_count": 36,
   "id": "57df8bf1",
   "metadata": {},
   "outputs": [
    {
     "data": {
      "text/html": [
       "<div>\n",
       "<style scoped>\n",
       "    .dataframe tbody tr th:only-of-type {\n",
       "        vertical-align: middle;\n",
       "    }\n",
       "\n",
       "    .dataframe tbody tr th {\n",
       "        vertical-align: top;\n",
       "    }\n",
       "\n",
       "    .dataframe thead th {\n",
       "        text-align: right;\n",
       "    }\n",
       "</style>\n",
       "<table border=\"1\" class=\"dataframe\">\n",
       "  <thead>\n",
       "    <tr style=\"text-align: right;\">\n",
       "      <th></th>\n",
       "      <th>order_details_id</th>\n",
       "      <th>order_id</th>\n",
       "      <th>quantity</th>\n",
       "      <th>unit_price</th>\n",
       "      <th>total_price</th>\n",
       "    </tr>\n",
       "  </thead>\n",
       "  <tbody>\n",
       "    <tr>\n",
       "      <th>count</th>\n",
       "      <td>48620.000000</td>\n",
       "      <td>48620.000000</td>\n",
       "      <td>48620.000000</td>\n",
       "      <td>48620.000000</td>\n",
       "      <td>48620.000000</td>\n",
       "    </tr>\n",
       "    <tr>\n",
       "      <th>mean</th>\n",
       "      <td>24310.500000</td>\n",
       "      <td>10701.479761</td>\n",
       "      <td>1.019622</td>\n",
       "      <td>16.494132</td>\n",
       "      <td>16.821474</td>\n",
       "    </tr>\n",
       "    <tr>\n",
       "      <th>std</th>\n",
       "      <td>14035.529381</td>\n",
       "      <td>6180.119770</td>\n",
       "      <td>0.143077</td>\n",
       "      <td>3.621789</td>\n",
       "      <td>4.437398</td>\n",
       "    </tr>\n",
       "    <tr>\n",
       "      <th>min</th>\n",
       "      <td>1.000000</td>\n",
       "      <td>1.000000</td>\n",
       "      <td>1.000000</td>\n",
       "      <td>9.750000</td>\n",
       "      <td>9.750000</td>\n",
       "    </tr>\n",
       "    <tr>\n",
       "      <th>25%</th>\n",
       "      <td>12155.750000</td>\n",
       "      <td>5337.000000</td>\n",
       "      <td>1.000000</td>\n",
       "      <td>12.750000</td>\n",
       "      <td>12.750000</td>\n",
       "    </tr>\n",
       "    <tr>\n",
       "      <th>50%</th>\n",
       "      <td>24310.500000</td>\n",
       "      <td>10682.500000</td>\n",
       "      <td>1.000000</td>\n",
       "      <td>16.500000</td>\n",
       "      <td>16.500000</td>\n",
       "    </tr>\n",
       "    <tr>\n",
       "      <th>75%</th>\n",
       "      <td>36465.250000</td>\n",
       "      <td>16100.000000</td>\n",
       "      <td>1.000000</td>\n",
       "      <td>20.250000</td>\n",
       "      <td>20.500000</td>\n",
       "    </tr>\n",
       "    <tr>\n",
       "      <th>max</th>\n",
       "      <td>48620.000000</td>\n",
       "      <td>21350.000000</td>\n",
       "      <td>4.000000</td>\n",
       "      <td>35.950000</td>\n",
       "      <td>83.000000</td>\n",
       "    </tr>\n",
       "  </tbody>\n",
       "</table>\n",
       "</div>"
      ],
      "text/plain": [
       "       order_details_id      order_id      quantity    unit_price  \\\n",
       "count      48620.000000  48620.000000  48620.000000  48620.000000   \n",
       "mean       24310.500000  10701.479761      1.019622     16.494132   \n",
       "std        14035.529381   6180.119770      0.143077      3.621789   \n",
       "min            1.000000      1.000000      1.000000      9.750000   \n",
       "25%        12155.750000   5337.000000      1.000000     12.750000   \n",
       "50%        24310.500000  10682.500000      1.000000     16.500000   \n",
       "75%        36465.250000  16100.000000      1.000000     20.250000   \n",
       "max        48620.000000  21350.000000      4.000000     35.950000   \n",
       "\n",
       "        total_price  \n",
       "count  48620.000000  \n",
       "mean      16.821474  \n",
       "std        4.437398  \n",
       "min        9.750000  \n",
       "25%       12.750000  \n",
       "50%       16.500000  \n",
       "75%       20.500000  \n",
       "max       83.000000  "
      ]
     },
     "execution_count": 36,
     "metadata": {},
     "output_type": "execute_result"
    }
   ],
   "source": [
    "pizza_sales.describe()"
   ]
  },
  {
   "cell_type": "code",
   "execution_count": 37,
   "id": "f0d90ad7",
   "metadata": {},
   "outputs": [
    {
     "data": {
      "text/plain": [
       "pandas.core.frame.DataFrame"
      ]
     },
     "execution_count": 37,
     "metadata": {},
     "output_type": "execute_result"
    }
   ],
   "source": [
    "#dateset type\n",
    "type(pizza_sales)"
   ]
  },
  {
   "cell_type": "code",
   "execution_count": 38,
   "id": "c0f7cec0",
   "metadata": {},
   "outputs": [
    {
     "data": {
      "text/plain": [
       "48620"
      ]
     },
     "execution_count": 38,
     "metadata": {},
     "output_type": "execute_result"
    }
   ],
   "source": [
    "#number of rows \n",
    "len(pizza_sales)"
   ]
  },
  {
   "cell_type": "code",
   "execution_count": 39,
   "id": "17fde618",
   "metadata": {},
   "outputs": [
    {
     "data": {
      "text/plain": [
       "12"
      ]
     },
     "execution_count": 39,
     "metadata": {},
     "output_type": "execute_result"
    }
   ],
   "source": [
    "#number of columns\n",
    "len(pizza_sales.columns)"
   ]
  },
  {
   "cell_type": "code",
   "execution_count": 40,
   "id": "100cd72b",
   "metadata": {},
   "outputs": [
    {
     "data": {
      "text/plain": [
       "0        13.25\n",
       "1        16.00\n",
       "2        18.50\n",
       "3        20.75\n",
       "4        16.00\n",
       "         ...  \n",
       "48615    16.75\n",
       "48616    17.95\n",
       "48617    12.00\n",
       "48618    20.25\n",
       "48619    12.75\n",
       "Name: total_price, Length: 48620, dtype: float64"
      ]
     },
     "execution_count": 40,
     "metadata": {},
     "output_type": "execute_result"
    }
   ],
   "source": [
    "#get total price column\n",
    "total_price = pizza_sales['total_price']\n",
    "total_price"
   ]
  },
  {
   "cell_type": "code",
   "execution_count": 41,
   "id": "d8d86077",
   "metadata": {},
   "outputs": [
    {
     "data": {
      "text/plain": [
       "817860.049999993"
      ]
     },
     "execution_count": 41,
     "metadata": {},
     "output_type": "execute_result"
    }
   ],
   "source": [
    "#total price of pizza ordered in the pizza restaurant(total revenue)\n",
    "sum(total_price)"
   ]
  },
  {
   "cell_type": "code",
   "execution_count": 42,
   "id": "74d793d4",
   "metadata": {},
   "outputs": [
    {
     "name": "stdout",
     "output_type": "stream",
     "text": [
      "The maximum total price is 83.0\n",
      "The minumum total price is 9.75\n",
      "The average total price is 16.82147367338529\n"
     ]
    }
   ],
   "source": [
    "#maximum total order price in the pizza restaurant\n",
    "#minimum total order price in the pizza restaurant\n",
    "#average total order price in the pizza restaurant\n",
    "print ('The maximum total price is', max(total_price))\n",
    "print ('The minumum total price is', min(total_price))\n",
    "print ('The average total price is', sum(total_price)/len(total_price))"
   ]
  },
  {
   "cell_type": "code",
   "execution_count": 43,
   "id": "fc207b8e",
   "metadata": {},
   "outputs": [
    {
     "data": {
      "text/plain": [
       "0        13.25\n",
       "1        16.00\n",
       "2        18.50\n",
       "3        20.75\n",
       "4        16.00\n",
       "         ...  \n",
       "48615    16.75\n",
       "48616    17.95\n",
       "48617    12.00\n",
       "48618    20.25\n",
       "48619    12.75\n",
       "Name: unit_price, Length: 48620, dtype: float64"
      ]
     },
     "execution_count": 43,
     "metadata": {},
     "output_type": "execute_result"
    }
   ],
   "source": [
    "#get unit price column\n",
    "unit_price = pizza_sales['unit_price']\n",
    "unit_price"
   ]
  },
  {
   "cell_type": "code",
   "execution_count": 44,
   "id": "e7e81581",
   "metadata": {},
   "outputs": [
    {
     "data": {
      "text/plain": [
       "801944.6999999925"
      ]
     },
     "execution_count": 44,
     "metadata": {},
     "output_type": "execute_result"
    }
   ],
   "source": [
    "#unit of pizza ordered in the pizza restaurant\n",
    "sum(unit_price)"
   ]
  },
  {
   "cell_type": "code",
   "execution_count": 45,
   "id": "4c2f37c9",
   "metadata": {},
   "outputs": [
    {
     "name": "stdout",
     "output_type": "stream",
     "text": [
      "The maximum unit price is 35.95\n",
      "The minumum unit price is 9.75\n",
      "The average unit price is 16.494132044426006\n"
     ]
    }
   ],
   "source": [
    "#maximum unit price in the pizza restaurant\n",
    "#minimum unit price in the pizza restaurant\n",
    "#average unit price in the pizza restaurant\n",
    "print ('The maximum unit price is', max(unit_price))\n",
    "print ('The minumum unit price is', min(unit_price))\n",
    "print ('The average unit price is', sum(unit_price)/len(unit_price))"
   ]
  },
  {
   "cell_type": "code",
   "execution_count": 46,
   "id": "ad3a561b",
   "metadata": {},
   "outputs": [
    {
     "data": {
      "text/plain": [
       "0                The Hawaiian Pizza\n",
       "1          The Classic Deluxe Pizza\n",
       "2             The Five Cheese Pizza\n",
       "3         The Italian Supreme Pizza\n",
       "4                The Mexicana Pizza\n",
       "                    ...            \n",
       "48615     The Chicken Alfredo Pizza\n",
       "48616         The Four Cheese Pizza\n",
       "48617          The Napolitana Pizza\n",
       "48618            The Mexicana Pizza\n",
       "48619    The Barbecue Chicken Pizza\n",
       "Name: pizza_name, Length: 48620, dtype: object"
      ]
     },
     "execution_count": 46,
     "metadata": {},
     "output_type": "execute_result"
    }
   ],
   "source": [
    "#get pizza name column\n",
    "pizza_name = pizza_sales['pizza_name']\n",
    "pizza_name"
   ]
  },
  {
   "cell_type": "code",
   "execution_count": 47,
   "id": "4b35a1c1",
   "metadata": {},
   "outputs": [
    {
     "data": {
      "text/plain": [
       "The Classic Deluxe Pizza                      2416\n",
       "The Barbecue Chicken Pizza                    2372\n",
       "The Hawaiian Pizza                            2370\n",
       "The Pepperoni Pizza                           2369\n",
       "The Thai Chicken Pizza                        2315\n",
       "The California Chicken Pizza                  2302\n",
       "The Sicilian Pizza                            1887\n",
       "The Spicy Italian Pizza                       1887\n",
       "The Southwest Chicken Pizza                   1885\n",
       "The Four Cheese Pizza                         1850\n",
       "The Italian Supreme Pizza                     1849\n",
       "The Big Meat Pizza                            1811\n",
       "The Vegetables + Vegetables Pizza             1510\n",
       "The Mexicana Pizza                            1456\n",
       "The Napolitana Pizza                          1451\n",
       "The Spinach and Feta Pizza                    1432\n",
       "The Prosciutto and Arugula Pizza              1428\n",
       "The Pepper Salami Pizza                       1422\n",
       "The Italian Capocollo Pizza                   1414\n",
       "The Greek Pizza                               1406\n",
       "The Five Cheese Pizza                         1359\n",
       "The Pepperoni, Mushroom, and Peppers Pizza    1342\n",
       "The Green Garden Pizza                         987\n",
       "The Chicken Alfredo Pizza                      980\n",
       "The Italian Vegetables Pizza                   975\n",
       "The Chicken Pesto Pizza                        961\n",
       "The Spinach Pesto Pizza                        957\n",
       "The Soppressata Pizza                          957\n",
       "The Spinach Supreme Pizza                      940\n",
       "The Calabrese Pizza                            927\n",
       "The Mediterranean Pizza                        923\n",
       "The Brie Carre Pizza                           480\n",
       "Name: pizza_name, dtype: int64"
      ]
     },
     "execution_count": 47,
     "metadata": {},
     "output_type": "execute_result"
    }
   ],
   "source": [
    "#pizza name and total quantity ordered\n",
    "pizza_count = pizza_sales['pizza_name'].value_counts()\n",
    "pizza_count"
   ]
  },
  {
   "cell_type": "code",
   "execution_count": 48,
   "id": "8c942d5e",
   "metadata": {},
   "outputs": [
    {
     "data": {
      "text/plain": [
       "0        1\n",
       "1        1\n",
       "2        1\n",
       "3        1\n",
       "4        1\n",
       "        ..\n",
       "48615    1\n",
       "48616    1\n",
       "48617    1\n",
       "48618    1\n",
       "48619    1\n",
       "Name: quantity, Length: 48620, dtype: int64"
      ]
     },
     "execution_count": 48,
     "metadata": {},
     "output_type": "execute_result"
    }
   ],
   "source": [
    "#get pizza quantity column\n",
    "pizza_quantity = pizza_sales['quantity']\n",
    "pizza_quantity"
   ]
  },
  {
   "cell_type": "code",
   "execution_count": 49,
   "id": "f5a3ee22",
   "metadata": {},
   "outputs": [
    {
     "data": {
      "text/plain": [
       "49574"
      ]
     },
     "execution_count": 49,
     "metadata": {},
     "output_type": "execute_result"
    }
   ],
   "source": [
    "#quantity(total order)\n",
    "sum(pizza_quantity)"
   ]
  },
  {
   "cell_type": "code",
   "execution_count": 50,
   "id": "eaed3ff1",
   "metadata": {},
   "outputs": [
    {
     "data": {
      "text/html": [
       "<div>\n",
       "<style scoped>\n",
       "    .dataframe tbody tr th:only-of-type {\n",
       "        vertical-align: middle;\n",
       "    }\n",
       "\n",
       "    .dataframe tbody tr th {\n",
       "        vertical-align: top;\n",
       "    }\n",
       "\n",
       "    .dataframe thead th {\n",
       "        text-align: right;\n",
       "    }\n",
       "</style>\n",
       "<table border=\"1\" class=\"dataframe\">\n",
       "  <thead>\n",
       "    <tr style=\"text-align: right;\">\n",
       "      <th></th>\n",
       "      <th>total_price</th>\n",
       "    </tr>\n",
       "    <tr>\n",
       "      <th>pizza_name</th>\n",
       "      <th></th>\n",
       "    </tr>\n",
       "  </thead>\n",
       "  <tbody>\n",
       "    <tr>\n",
       "      <th>The Barbecue Chicken Pizza</th>\n",
       "      <td>42768.00</td>\n",
       "    </tr>\n",
       "    <tr>\n",
       "      <th>The Big Meat Pizza</th>\n",
       "      <td>22968.00</td>\n",
       "    </tr>\n",
       "    <tr>\n",
       "      <th>The Brie Carre Pizza</th>\n",
       "      <td>11588.50</td>\n",
       "    </tr>\n",
       "    <tr>\n",
       "      <th>The Calabrese Pizza</th>\n",
       "      <td>15934.25</td>\n",
       "    </tr>\n",
       "    <tr>\n",
       "      <th>The California Chicken Pizza</th>\n",
       "      <td>41409.50</td>\n",
       "    </tr>\n",
       "    <tr>\n",
       "      <th>The Chicken Alfredo Pizza</th>\n",
       "      <td>16900.25</td>\n",
       "    </tr>\n",
       "    <tr>\n",
       "      <th>The Chicken Pesto Pizza</th>\n",
       "      <td>16701.75</td>\n",
       "    </tr>\n",
       "    <tr>\n",
       "      <th>The Classic Deluxe Pizza</th>\n",
       "      <td>38180.50</td>\n",
       "    </tr>\n",
       "    <tr>\n",
       "      <th>The Five Cheese Pizza</th>\n",
       "      <td>26066.50</td>\n",
       "    </tr>\n",
       "    <tr>\n",
       "      <th>The Four Cheese Pizza</th>\n",
       "      <td>32265.70</td>\n",
       "    </tr>\n",
       "    <tr>\n",
       "      <th>The Greek Pizza</th>\n",
       "      <td>28454.10</td>\n",
       "    </tr>\n",
       "    <tr>\n",
       "      <th>The Green Garden Pizza</th>\n",
       "      <td>13955.75</td>\n",
       "    </tr>\n",
       "    <tr>\n",
       "      <th>The Hawaiian Pizza</th>\n",
       "      <td>32273.25</td>\n",
       "    </tr>\n",
       "    <tr>\n",
       "      <th>The Italian Capocollo Pizza</th>\n",
       "      <td>25094.00</td>\n",
       "    </tr>\n",
       "    <tr>\n",
       "      <th>The Italian Supreme Pizza</th>\n",
       "      <td>33476.75</td>\n",
       "    </tr>\n",
       "    <tr>\n",
       "      <th>The Italian Vegetables Pizza</th>\n",
       "      <td>16019.25</td>\n",
       "    </tr>\n",
       "    <tr>\n",
       "      <th>The Mediterranean Pizza</th>\n",
       "      <td>15360.50</td>\n",
       "    </tr>\n",
       "    <tr>\n",
       "      <th>The Mexicana Pizza</th>\n",
       "      <td>26780.75</td>\n",
       "    </tr>\n",
       "    <tr>\n",
       "      <th>The Napolitana Pizza</th>\n",
       "      <td>24087.00</td>\n",
       "    </tr>\n",
       "    <tr>\n",
       "      <th>The Pepper Salami Pizza</th>\n",
       "      <td>25529.00</td>\n",
       "    </tr>\n",
       "    <tr>\n",
       "      <th>The Pepperoni Pizza</th>\n",
       "      <td>30161.75</td>\n",
       "    </tr>\n",
       "    <tr>\n",
       "      <th>The Pepperoni, Mushroom, and Peppers Pizza</th>\n",
       "      <td>18834.50</td>\n",
       "    </tr>\n",
       "    <tr>\n",
       "      <th>The Prosciutto and Arugula Pizza</th>\n",
       "      <td>24193.25</td>\n",
       "    </tr>\n",
       "    <tr>\n",
       "      <th>The Sicilian Pizza</th>\n",
       "      <td>30940.50</td>\n",
       "    </tr>\n",
       "    <tr>\n",
       "      <th>The Soppressata Pizza</th>\n",
       "      <td>16425.75</td>\n",
       "    </tr>\n",
       "    <tr>\n",
       "      <th>The Southwest Chicken Pizza</th>\n",
       "      <td>34705.75</td>\n",
       "    </tr>\n",
       "    <tr>\n",
       "      <th>The Spicy Italian Pizza</th>\n",
       "      <td>34831.25</td>\n",
       "    </tr>\n",
       "    <tr>\n",
       "      <th>The Spinach Pesto Pizza</th>\n",
       "      <td>15596.00</td>\n",
       "    </tr>\n",
       "    <tr>\n",
       "      <th>The Spinach Supreme Pizza</th>\n",
       "      <td>15277.75</td>\n",
       "    </tr>\n",
       "    <tr>\n",
       "      <th>The Spinach and Feta Pizza</th>\n",
       "      <td>23271.25</td>\n",
       "    </tr>\n",
       "    <tr>\n",
       "      <th>The Thai Chicken Pizza</th>\n",
       "      <td>43434.25</td>\n",
       "    </tr>\n",
       "    <tr>\n",
       "      <th>The Vegetables + Vegetables Pizza</th>\n",
       "      <td>24374.75</td>\n",
       "    </tr>\n",
       "  </tbody>\n",
       "</table>\n",
       "</div>"
      ],
      "text/plain": [
       "                                            total_price\n",
       "pizza_name                                             \n",
       "The Barbecue Chicken Pizza                     42768.00\n",
       "The Big Meat Pizza                             22968.00\n",
       "The Brie Carre Pizza                           11588.50\n",
       "The Calabrese Pizza                            15934.25\n",
       "The California Chicken Pizza                   41409.50\n",
       "The Chicken Alfredo Pizza                      16900.25\n",
       "The Chicken Pesto Pizza                        16701.75\n",
       "The Classic Deluxe Pizza                       38180.50\n",
       "The Five Cheese Pizza                          26066.50\n",
       "The Four Cheese Pizza                          32265.70\n",
       "The Greek Pizza                                28454.10\n",
       "The Green Garden Pizza                         13955.75\n",
       "The Hawaiian Pizza                             32273.25\n",
       "The Italian Capocollo Pizza                    25094.00\n",
       "The Italian Supreme Pizza                      33476.75\n",
       "The Italian Vegetables Pizza                   16019.25\n",
       "The Mediterranean Pizza                        15360.50\n",
       "The Mexicana Pizza                             26780.75\n",
       "The Napolitana Pizza                           24087.00\n",
       "The Pepper Salami Pizza                        25529.00\n",
       "The Pepperoni Pizza                            30161.75\n",
       "The Pepperoni, Mushroom, and Peppers Pizza     18834.50\n",
       "The Prosciutto and Arugula Pizza               24193.25\n",
       "The Sicilian Pizza                             30940.50\n",
       "The Soppressata Pizza                          16425.75\n",
       "The Southwest Chicken Pizza                    34705.75\n",
       "The Spicy Italian Pizza                        34831.25\n",
       "The Spinach Pesto Pizza                        15596.00\n",
       "The Spinach Supreme Pizza                      15277.75\n",
       "The Spinach and Feta Pizza                     23271.25\n",
       "The Thai Chicken Pizza                         43434.25\n",
       "The Vegetables + Vegetables Pizza              24374.75"
      ]
     },
     "execution_count": 50,
     "metadata": {},
     "output_type": "execute_result"
    }
   ],
   "source": [
    "#pizza name and total revenue generated\n",
    "pizza_sales[['pizza_name','total_price']].groupby('pizza_name').sum()"
   ]
  },
  {
   "cell_type": "code",
   "execution_count": 51,
   "id": "70c104a1",
   "metadata": {},
   "outputs": [
    {
     "data": {
      "text/plain": [
       "total_price    43434.25\n",
       "dtype: float64"
      ]
     },
     "execution_count": 51,
     "metadata": {},
     "output_type": "execute_result"
    }
   ],
   "source": [
    "# pizza with the higest sale\n",
    "pizza_sales[['pizza_name', 'total_price']].groupby('pizza_name').sum().max()"
   ]
  },
  {
   "cell_type": "code",
   "execution_count": 52,
   "id": "4810cf10",
   "metadata": {},
   "outputs": [
    {
     "data": {
      "text/plain": [
       "total_price    11588.5\n",
       "dtype: float64"
      ]
     },
     "execution_count": 52,
     "metadata": {},
     "output_type": "execute_result"
    }
   ],
   "source": [
    "# pizza with the least sale\n",
    "pizza_sales[['pizza_name', 'total_price']].groupby('pizza_name').sum().min()"
   ]
  },
  {
   "cell_type": "code",
   "execution_count": 53,
   "id": "6ae037d8",
   "metadata": {},
   "outputs": [
    {
     "data": {
      "text/plain": [
       "pizza_size\n",
       "L      375318.70\n",
       "M      249382.25\n",
       "S      178076.50\n",
       "XL      14076.00\n",
       "XXL      1006.60\n",
       "Name: total_price, dtype: float64"
      ]
     },
     "execution_count": 53,
     "metadata": {},
     "output_type": "execute_result"
    }
   ],
   "source": [
    "#pizza size and revenune\n",
    "pizza_sales.groupby('pizza_size')['total_price'].sum()"
   ]
  },
  {
   "cell_type": "code",
   "execution_count": 54,
   "id": "647f3f9c",
   "metadata": {},
   "outputs": [
    {
     "data": {
      "text/plain": [
       "pizza_category\n",
       "Chicken    195919.50\n",
       "Classic    220053.10\n",
       "Supreme    208197.00\n",
       "Veggie     193690.45\n",
       "Name: total_price, dtype: float64"
      ]
     },
     "execution_count": 54,
     "metadata": {},
     "output_type": "execute_result"
    }
   ],
   "source": [
    "#pizza category and revenune\n",
    "pizza_sales.groupby('pizza_category')['total_price'].sum()"
   ]
  },
  {
   "cell_type": "code",
   "execution_count": 535,
   "id": "3e619719",
   "metadata": {
    "scrolled": true
   },
   "outputs": [
    {
     "data": {
      "text/plain": [
       "0.5958280563354492"
      ]
     },
     "execution_count": 535,
     "metadata": {},
     "output_type": "execute_result"
    }
   ],
   "source": [
    "#time for code to run\n",
    "duration1 = time.time() - start\n",
    "duration1"
   ]
  },
  {
   "cell_type": "code",
   "execution_count": null,
   "id": "6209064b",
   "metadata": {},
   "outputs": [],
   "source": []
  },
  {
   "cell_type": "code",
   "execution_count": null,
   "id": "deaa58f4",
   "metadata": {},
   "outputs": [],
   "source": [
    "#run code for task2 after size of dataset(number of rows) is artificially increased\n",
    "#get the duration"
   ]
  },
  {
   "cell_type": "code",
   "execution_count": 55,
   "id": "99702b19",
   "metadata": {},
   "outputs": [],
   "source": [
    "import time\n",
    "start = time.time()\n",
    "import pandas as pd\n",
    "pizza_sales = pd.read_csv('pizza_sales1.csv')"
   ]
  },
  {
   "cell_type": "code",
   "execution_count": 56,
   "id": "e8f1bef7",
   "metadata": {},
   "outputs": [
    {
     "data": {
      "text/html": [
       "<div>\n",
       "<style scoped>\n",
       "    .dataframe tbody tr th:only-of-type {\n",
       "        vertical-align: middle;\n",
       "    }\n",
       "\n",
       "    .dataframe tbody tr th {\n",
       "        vertical-align: top;\n",
       "    }\n",
       "\n",
       "    .dataframe thead th {\n",
       "        text-align: right;\n",
       "    }\n",
       "</style>\n",
       "<table border=\"1\" class=\"dataframe\">\n",
       "  <thead>\n",
       "    <tr style=\"text-align: right;\">\n",
       "      <th></th>\n",
       "      <th>order_details_id</th>\n",
       "      <th>order_id</th>\n",
       "      <th>pizza_id</th>\n",
       "      <th>quantity</th>\n",
       "      <th>order_date</th>\n",
       "      <th>order_time</th>\n",
       "      <th>unit_price</th>\n",
       "      <th>total_price</th>\n",
       "      <th>pizza_size</th>\n",
       "      <th>pizza_category</th>\n",
       "      <th>pizza_ingredients</th>\n",
       "      <th>pizza_name</th>\n",
       "    </tr>\n",
       "  </thead>\n",
       "  <tbody>\n",
       "    <tr>\n",
       "      <th>0</th>\n",
       "      <td>1</td>\n",
       "      <td>1</td>\n",
       "      <td>hawaiian_m</td>\n",
       "      <td>1</td>\n",
       "      <td>01/01/2015</td>\n",
       "      <td>11:38:36</td>\n",
       "      <td>13.25</td>\n",
       "      <td>13.25</td>\n",
       "      <td>M</td>\n",
       "      <td>Classic</td>\n",
       "      <td>Sliced Ham, Pineapple, Mozzarella Cheese</td>\n",
       "      <td>The Hawaiian Pizza</td>\n",
       "    </tr>\n",
       "    <tr>\n",
       "      <th>1</th>\n",
       "      <td>2</td>\n",
       "      <td>2</td>\n",
       "      <td>classic_dlx_m</td>\n",
       "      <td>1</td>\n",
       "      <td>01/01/2015</td>\n",
       "      <td>11:57:40</td>\n",
       "      <td>16.00</td>\n",
       "      <td>16.00</td>\n",
       "      <td>M</td>\n",
       "      <td>Classic</td>\n",
       "      <td>Pepperoni, Mushrooms, Red Onions, Red Peppers,...</td>\n",
       "      <td>The Classic Deluxe Pizza</td>\n",
       "    </tr>\n",
       "    <tr>\n",
       "      <th>2</th>\n",
       "      <td>3</td>\n",
       "      <td>2</td>\n",
       "      <td>five_cheese_l</td>\n",
       "      <td>1</td>\n",
       "      <td>01/01/2015</td>\n",
       "      <td>11:57:40</td>\n",
       "      <td>18.50</td>\n",
       "      <td>18.50</td>\n",
       "      <td>L</td>\n",
       "      <td>Veggie</td>\n",
       "      <td>Mozzarella Cheese, Provolone Cheese, Smoked Go...</td>\n",
       "      <td>The Five Cheese Pizza</td>\n",
       "    </tr>\n",
       "    <tr>\n",
       "      <th>3</th>\n",
       "      <td>4</td>\n",
       "      <td>2</td>\n",
       "      <td>ital_supr_l</td>\n",
       "      <td>1</td>\n",
       "      <td>01/01/2015</td>\n",
       "      <td>11:57:40</td>\n",
       "      <td>20.75</td>\n",
       "      <td>20.75</td>\n",
       "      <td>L</td>\n",
       "      <td>Supreme</td>\n",
       "      <td>Calabrese Salami, Capocollo, Tomatoes, Red Oni...</td>\n",
       "      <td>The Italian Supreme Pizza</td>\n",
       "    </tr>\n",
       "    <tr>\n",
       "      <th>4</th>\n",
       "      <td>5</td>\n",
       "      <td>2</td>\n",
       "      <td>mexicana_m</td>\n",
       "      <td>1</td>\n",
       "      <td>01/01/2015</td>\n",
       "      <td>11:57:40</td>\n",
       "      <td>16.00</td>\n",
       "      <td>16.00</td>\n",
       "      <td>M</td>\n",
       "      <td>Veggie</td>\n",
       "      <td>Tomatoes, Red Peppers, Jalapeno Peppers, Red O...</td>\n",
       "      <td>The Mexicana Pizza</td>\n",
       "    </tr>\n",
       "  </tbody>\n",
       "</table>\n",
       "</div>"
      ],
      "text/plain": [
       "   order_details_id  order_id       pizza_id  quantity  order_date order_time  \\\n",
       "0                 1         1     hawaiian_m         1  01/01/2015   11:38:36   \n",
       "1                 2         2  classic_dlx_m         1  01/01/2015   11:57:40   \n",
       "2                 3         2  five_cheese_l         1  01/01/2015   11:57:40   \n",
       "3                 4         2    ital_supr_l         1  01/01/2015   11:57:40   \n",
       "4                 5         2     mexicana_m         1  01/01/2015   11:57:40   \n",
       "\n",
       "   unit_price  total_price pizza_size pizza_category  \\\n",
       "0       13.25        13.25          M        Classic   \n",
       "1       16.00        16.00          M        Classic   \n",
       "2       18.50        18.50          L         Veggie   \n",
       "3       20.75        20.75          L        Supreme   \n",
       "4       16.00        16.00          M         Veggie   \n",
       "\n",
       "                                   pizza_ingredients  \\\n",
       "0           Sliced Ham, Pineapple, Mozzarella Cheese   \n",
       "1  Pepperoni, Mushrooms, Red Onions, Red Peppers,...   \n",
       "2  Mozzarella Cheese, Provolone Cheese, Smoked Go...   \n",
       "3  Calabrese Salami, Capocollo, Tomatoes, Red Oni...   \n",
       "4  Tomatoes, Red Peppers, Jalapeno Peppers, Red O...   \n",
       "\n",
       "                  pizza_name  \n",
       "0         The Hawaiian Pizza  \n",
       "1   The Classic Deluxe Pizza  \n",
       "2      The Five Cheese Pizza  \n",
       "3  The Italian Supreme Pizza  \n",
       "4         The Mexicana Pizza  "
      ]
     },
     "execution_count": 56,
     "metadata": {},
     "output_type": "execute_result"
    }
   ],
   "source": [
    "pizza_sales.head()"
   ]
  },
  {
   "cell_type": "code",
   "execution_count": 57,
   "id": "d04f80e6",
   "metadata": {},
   "outputs": [
    {
     "data": {
      "text/html": [
       "<div>\n",
       "<style scoped>\n",
       "    .dataframe tbody tr th:only-of-type {\n",
       "        vertical-align: middle;\n",
       "    }\n",
       "\n",
       "    .dataframe tbody tr th {\n",
       "        vertical-align: top;\n",
       "    }\n",
       "\n",
       "    .dataframe thead th {\n",
       "        text-align: right;\n",
       "    }\n",
       "</style>\n",
       "<table border=\"1\" class=\"dataframe\">\n",
       "  <thead>\n",
       "    <tr style=\"text-align: right;\">\n",
       "      <th></th>\n",
       "      <th>order_details_id</th>\n",
       "      <th>order_id</th>\n",
       "      <th>quantity</th>\n",
       "      <th>unit_price</th>\n",
       "      <th>total_price</th>\n",
       "    </tr>\n",
       "  </thead>\n",
       "  <tbody>\n",
       "    <tr>\n",
       "      <th>count</th>\n",
       "      <td>68098.000000</td>\n",
       "      <td>68098.000000</td>\n",
       "      <td>68098.000000</td>\n",
       "      <td>68098.000000</td>\n",
       "      <td>68098.000000</td>\n",
       "    </tr>\n",
       "    <tr>\n",
       "      <th>mean</th>\n",
       "      <td>34049.500000</td>\n",
       "      <td>12539.616978</td>\n",
       "      <td>1.019589</td>\n",
       "      <td>16.485463</td>\n",
       "      <td>16.811533</td>\n",
       "    </tr>\n",
       "    <tr>\n",
       "      <th>std</th>\n",
       "      <td>19658.343653</td>\n",
       "      <td>6116.166297</td>\n",
       "      <td>0.143172</td>\n",
       "      <td>3.620992</td>\n",
       "      <td>4.435175</td>\n",
       "    </tr>\n",
       "    <tr>\n",
       "      <th>min</th>\n",
       "      <td>1.000000</td>\n",
       "      <td>1.000000</td>\n",
       "      <td>1.000000</td>\n",
       "      <td>9.750000</td>\n",
       "      <td>9.750000</td>\n",
       "    </tr>\n",
       "    <tr>\n",
       "      <th>25%</th>\n",
       "      <td>17025.250000</td>\n",
       "      <td>7490.250000</td>\n",
       "      <td>1.000000</td>\n",
       "      <td>12.750000</td>\n",
       "      <td>12.750000</td>\n",
       "    </tr>\n",
       "    <tr>\n",
       "      <th>50%</th>\n",
       "      <td>34049.500000</td>\n",
       "      <td>13950.000000</td>\n",
       "      <td>1.000000</td>\n",
       "      <td>16.500000</td>\n",
       "      <td>16.500000</td>\n",
       "    </tr>\n",
       "    <tr>\n",
       "      <th>75%</th>\n",
       "      <td>51073.750000</td>\n",
       "      <td>17675.000000</td>\n",
       "      <td>1.000000</td>\n",
       "      <td>20.250000</td>\n",
       "      <td>20.500000</td>\n",
       "    </tr>\n",
       "    <tr>\n",
       "      <th>max</th>\n",
       "      <td>68098.000000</td>\n",
       "      <td>21350.000000</td>\n",
       "      <td>4.000000</td>\n",
       "      <td>35.950000</td>\n",
       "      <td>83.000000</td>\n",
       "    </tr>\n",
       "  </tbody>\n",
       "</table>\n",
       "</div>"
      ],
      "text/plain": [
       "       order_details_id      order_id      quantity    unit_price  \\\n",
       "count      68098.000000  68098.000000  68098.000000  68098.000000   \n",
       "mean       34049.500000  12539.616978      1.019589     16.485463   \n",
       "std        19658.343653   6116.166297      0.143172      3.620992   \n",
       "min            1.000000      1.000000      1.000000      9.750000   \n",
       "25%        17025.250000   7490.250000      1.000000     12.750000   \n",
       "50%        34049.500000  13950.000000      1.000000     16.500000   \n",
       "75%        51073.750000  17675.000000      1.000000     20.250000   \n",
       "max        68098.000000  21350.000000      4.000000     35.950000   \n",
       "\n",
       "        total_price  \n",
       "count  68098.000000  \n",
       "mean      16.811533  \n",
       "std        4.435175  \n",
       "min        9.750000  \n",
       "25%       12.750000  \n",
       "50%       16.500000  \n",
       "75%       20.500000  \n",
       "max       83.000000  "
      ]
     },
     "execution_count": 57,
     "metadata": {},
     "output_type": "execute_result"
    }
   ],
   "source": [
    "pizza_sales.describe()"
   ]
  },
  {
   "cell_type": "code",
   "execution_count": 58,
   "id": "0c6f40d1",
   "metadata": {},
   "outputs": [
    {
     "data": {
      "text/plain": [
       "pandas.core.frame.DataFrame"
      ]
     },
     "execution_count": 58,
     "metadata": {},
     "output_type": "execute_result"
    }
   ],
   "source": [
    "#dateset type\n",
    "type(pizza_sales)"
   ]
  },
  {
   "cell_type": "code",
   "execution_count": 59,
   "id": "36abf610",
   "metadata": {},
   "outputs": [
    {
     "data": {
      "text/plain": [
       "68098"
      ]
     },
     "execution_count": 59,
     "metadata": {},
     "output_type": "execute_result"
    }
   ],
   "source": [
    "#number of rows \n",
    "len(pizza_sales)"
   ]
  },
  {
   "cell_type": "code",
   "execution_count": 60,
   "id": "6e1e6956",
   "metadata": {},
   "outputs": [
    {
     "data": {
      "text/plain": [
       "12"
      ]
     },
     "execution_count": 60,
     "metadata": {},
     "output_type": "execute_result"
    }
   ],
   "source": [
    "#number of columns\n",
    "len(pizza_sales.columns)"
   ]
  },
  {
   "cell_type": "code",
   "execution_count": 61,
   "id": "e3c0b6d7",
   "metadata": {},
   "outputs": [
    {
     "data": {
      "text/plain": [
       "0        13.25\n",
       "1        16.00\n",
       "2        18.50\n",
       "3        20.75\n",
       "4        16.00\n",
       "         ...  \n",
       "68093    16.75\n",
       "68094    17.95\n",
       "68095    12.00\n",
       "68096    20.25\n",
       "68097    12.75\n",
       "Name: total_price, Length: 68098, dtype: float64"
      ]
     },
     "execution_count": 61,
     "metadata": {},
     "output_type": "execute_result"
    }
   ],
   "source": [
    "#get total price column\n",
    "total_price = pizza_sales['total_price']\n",
    "total_price"
   ]
  },
  {
   "cell_type": "code",
   "execution_count": 62,
   "id": "d8d86077",
   "metadata": {},
   "outputs": [
    {
     "data": {
      "text/plain": [
       "1144831.7499999674"
      ]
     },
     "execution_count": 62,
     "metadata": {},
     "output_type": "execute_result"
    }
   ],
   "source": [
    "#total price of pizza ordered in the pizza restaurant(total revenue)\n",
    "sum(total_price)"
   ]
  },
  {
   "cell_type": "code",
   "execution_count": 63,
   "id": "74d793d4",
   "metadata": {},
   "outputs": [
    {
     "name": "stdout",
     "output_type": "stream",
     "text": [
      "The maximum total price is 83.0\n",
      "The minumum total price is 9.75\n",
      "The average total price is 16.81153264413004\n"
     ]
    }
   ],
   "source": [
    "#maximum total order price in the pizza restaurant\n",
    "#minimum total order price in the pizza restaurant\n",
    "#average total order price in the pizza restaurant\n",
    "print ('The maximum total price is', max(total_price))\n",
    "print ('The minumum total price is', min(total_price))\n",
    "print ('The average total price is', sum(total_price)/len(total_price))"
   ]
  },
  {
   "cell_type": "code",
   "execution_count": 64,
   "id": "fc207b8e",
   "metadata": {},
   "outputs": [
    {
     "data": {
      "text/plain": [
       "0        13.25\n",
       "1        16.00\n",
       "2        18.50\n",
       "3        20.75\n",
       "4        16.00\n",
       "         ...  \n",
       "68093    16.75\n",
       "68094    17.95\n",
       "68095    12.00\n",
       "68096    20.25\n",
       "68097    12.75\n",
       "Name: unit_price, Length: 68098, dtype: float64"
      ]
     },
     "execution_count": 64,
     "metadata": {},
     "output_type": "execute_result"
    }
   ],
   "source": [
    "#get unit price column\n",
    "unit_price = pizza_sales['unit_price']\n",
    "unit_price"
   ]
  },
  {
   "cell_type": "code",
   "execution_count": 65,
   "id": "e7e81581",
   "metadata": {},
   "outputs": [
    {
     "data": {
      "text/plain": [
       "1122627.0499999684"
      ]
     },
     "execution_count": 65,
     "metadata": {},
     "output_type": "execute_result"
    }
   ],
   "source": [
    "#unit of pizza ordered in the pizza restaurant\n",
    "sum(unit_price)"
   ]
  },
  {
   "cell_type": "code",
   "execution_count": 66,
   "id": "4c2f37c9",
   "metadata": {},
   "outputs": [
    {
     "name": "stdout",
     "output_type": "stream",
     "text": [
      "The maximum unit price is 35.95\n",
      "The minumum unit price is 9.75\n",
      "The average unit price is 16.485462862344978\n"
     ]
    }
   ],
   "source": [
    "#maximum unit price in the pizza restaurant\n",
    "#minimum unit price in the pizza restaurant\n",
    "#average unit price in the pizza restaurant\n",
    "print ('The maximum unit price is', max(unit_price))\n",
    "print ('The minumum unit price is', min(unit_price))\n",
    "print ('The average unit price is', sum(unit_price)/len(unit_price))"
   ]
  },
  {
   "cell_type": "code",
   "execution_count": 67,
   "id": "ad3a561b",
   "metadata": {},
   "outputs": [
    {
     "data": {
      "text/plain": [
       "0                The Hawaiian Pizza\n",
       "1          The Classic Deluxe Pizza\n",
       "2             The Five Cheese Pizza\n",
       "3         The Italian Supreme Pizza\n",
       "4                The Mexicana Pizza\n",
       "                    ...            \n",
       "68093     The Chicken Alfredo Pizza\n",
       "68094         The Four Cheese Pizza\n",
       "68095          The Napolitana Pizza\n",
       "68096            The Mexicana Pizza\n",
       "68097    The Barbecue Chicken Pizza\n",
       "Name: pizza_name, Length: 68098, dtype: object"
      ]
     },
     "execution_count": 67,
     "metadata": {},
     "output_type": "execute_result"
    }
   ],
   "source": [
    "#get pizza name column\n",
    "pizza_name = pizza_sales['pizza_name']\n",
    "pizza_name"
   ]
  },
  {
   "cell_type": "code",
   "execution_count": 68,
   "id": "4b35a1c1",
   "metadata": {},
   "outputs": [
    {
     "data": {
      "text/plain": [
       "The Classic Deluxe Pizza                      3413\n",
       "The Hawaiian Pizza                            3356\n",
       "The Pepperoni Pizza                           3321\n",
       "The Barbecue Chicken Pizza                    3274\n",
       "The Thai Chicken Pizza                        3273\n",
       "The California Chicken Pizza                  3240\n",
       "The Sicilian Pizza                            2669\n",
       "The Southwest Chicken Pizza                   2664\n",
       "The Spicy Italian Pizza                       2626\n",
       "The Four Cheese Pizza                         2587\n",
       "The Italian Supreme Pizza                     2584\n",
       "The Big Meat Pizza                            2536\n",
       "The Vegetables + Vegetables Pizza             2091\n",
       "The Mexicana Pizza                            2045\n",
       "The Napolitana Pizza                          2043\n",
       "The Prosciutto and Arugula Pizza              2010\n",
       "The Pepper Salami Pizza                       1994\n",
       "The Spinach and Feta Pizza                    1994\n",
       "The Greek Pizza                               1964\n",
       "The Italian Capocollo Pizza                   1960\n",
       "The Pepperoni, Mushroom, and Peppers Pizza    1873\n",
       "The Five Cheese Pizza                         1865\n",
       "The Chicken Alfredo Pizza                     1384\n",
       "The Green Garden Pizza                        1362\n",
       "The Italian Vegetables Pizza                  1357\n",
       "The Spinach Pesto Pizza                       1352\n",
       "The Chicken Pesto Pizza                       1349\n",
       "The Soppressata Pizza                         1329\n",
       "The Spinach Supreme Pizza                     1307\n",
       "The Mediterranean Pizza                       1305\n",
       "The Calabrese Pizza                           1297\n",
       "The Brie Carre Pizza                           674\n",
       "Name: pizza_name, dtype: int64"
      ]
     },
     "execution_count": 68,
     "metadata": {},
     "output_type": "execute_result"
    }
   ],
   "source": [
    "#pizza name and total quantity ordered\n",
    "pizza_count = pizza_sales['pizza_name'].value_counts()\n",
    "pizza_count"
   ]
  },
  {
   "cell_type": "code",
   "execution_count": 69,
   "id": "8c942d5e",
   "metadata": {},
   "outputs": [
    {
     "data": {
      "text/plain": [
       "0        1\n",
       "1        1\n",
       "2        1\n",
       "3        1\n",
       "4        1\n",
       "        ..\n",
       "68093    1\n",
       "68094    1\n",
       "68095    1\n",
       "68096    1\n",
       "68097    1\n",
       "Name: quantity, Length: 68098, dtype: int64"
      ]
     },
     "execution_count": 69,
     "metadata": {},
     "output_type": "execute_result"
    }
   ],
   "source": [
    "#get pizza quantity column\n",
    "pizza_quantity = pizza_sales['quantity']\n",
    "pizza_quantity"
   ]
  },
  {
   "cell_type": "code",
   "execution_count": 70,
   "id": "f5a3ee22",
   "metadata": {},
   "outputs": [
    {
     "data": {
      "text/plain": [
       "69432"
      ]
     },
     "execution_count": 70,
     "metadata": {},
     "output_type": "execute_result"
    }
   ],
   "source": [
    "#quantity(total order)\n",
    "sum(pizza_quantity)"
   ]
  },
  {
   "cell_type": "code",
   "execution_count": 71,
   "id": "eaed3ff1",
   "metadata": {},
   "outputs": [
    {
     "data": {
      "text/html": [
       "<div>\n",
       "<style scoped>\n",
       "    .dataframe tbody tr th:only-of-type {\n",
       "        vertical-align: middle;\n",
       "    }\n",
       "\n",
       "    .dataframe tbody tr th {\n",
       "        vertical-align: top;\n",
       "    }\n",
       "\n",
       "    .dataframe thead th {\n",
       "        text-align: right;\n",
       "    }\n",
       "</style>\n",
       "<table border=\"1\" class=\"dataframe\">\n",
       "  <thead>\n",
       "    <tr style=\"text-align: right;\">\n",
       "      <th></th>\n",
       "      <th>total_price</th>\n",
       "    </tr>\n",
       "    <tr>\n",
       "      <th>pizza_name</th>\n",
       "      <th></th>\n",
       "    </tr>\n",
       "  </thead>\n",
       "  <tbody>\n",
       "    <tr>\n",
       "      <th>The Barbecue Chicken Pizza</th>\n",
       "      <td>59096.00</td>\n",
       "    </tr>\n",
       "    <tr>\n",
       "      <th>The Big Meat Pizza</th>\n",
       "      <td>32232.00</td>\n",
       "    </tr>\n",
       "    <tr>\n",
       "      <th>The Brie Carre Pizza</th>\n",
       "      <td>16247.55</td>\n",
       "    </tr>\n",
       "    <tr>\n",
       "      <th>The Calabrese Pizza</th>\n",
       "      <td>22323.75</td>\n",
       "    </tr>\n",
       "    <tr>\n",
       "      <th>The California Chicken Pizza</th>\n",
       "      <td>58271.50</td>\n",
       "    </tr>\n",
       "    <tr>\n",
       "      <th>The Chicken Alfredo Pizza</th>\n",
       "      <td>23898.25</td>\n",
       "    </tr>\n",
       "    <tr>\n",
       "      <th>The Chicken Pesto Pizza</th>\n",
       "      <td>23431.75</td>\n",
       "    </tr>\n",
       "    <tr>\n",
       "      <th>The Classic Deluxe Pizza</th>\n",
       "      <td>53971.50</td>\n",
       "    </tr>\n",
       "    <tr>\n",
       "      <th>The Five Cheese Pizza</th>\n",
       "      <td>35779.00</td>\n",
       "    </tr>\n",
       "    <tr>\n",
       "      <th>The Four Cheese Pizza</th>\n",
       "      <td>45129.40</td>\n",
       "    </tr>\n",
       "    <tr>\n",
       "      <th>The Greek Pizza</th>\n",
       "      <td>39621.55</td>\n",
       "    </tr>\n",
       "    <tr>\n",
       "      <th>The Green Garden Pizza</th>\n",
       "      <td>19203.75</td>\n",
       "    </tr>\n",
       "    <tr>\n",
       "      <th>The Hawaiian Pizza</th>\n",
       "      <td>45687.50</td>\n",
       "    </tr>\n",
       "    <tr>\n",
       "      <th>The Italian Capocollo Pizza</th>\n",
       "      <td>34873.50</td>\n",
       "    </tr>\n",
       "    <tr>\n",
       "      <th>The Italian Supreme Pizza</th>\n",
       "      <td>46908.50</td>\n",
       "    </tr>\n",
       "    <tr>\n",
       "      <th>The Italian Vegetables Pizza</th>\n",
       "      <td>22290.50</td>\n",
       "    </tr>\n",
       "    <tr>\n",
       "      <th>The Mediterranean Pizza</th>\n",
       "      <td>21726.75</td>\n",
       "    </tr>\n",
       "    <tr>\n",
       "      <th>The Mexicana Pizza</th>\n",
       "      <td>37503.50</td>\n",
       "    </tr>\n",
       "    <tr>\n",
       "      <th>The Napolitana Pizza</th>\n",
       "      <td>33954.00</td>\n",
       "    </tr>\n",
       "    <tr>\n",
       "      <th>The Pepper Salami Pizza</th>\n",
       "      <td>35592.00</td>\n",
       "    </tr>\n",
       "    <tr>\n",
       "      <th>The Pepperoni Pizza</th>\n",
       "      <td>42336.00</td>\n",
       "    </tr>\n",
       "    <tr>\n",
       "      <th>The Pepperoni, Mushroom, and Peppers Pizza</th>\n",
       "      <td>26277.00</td>\n",
       "    </tr>\n",
       "    <tr>\n",
       "      <th>The Prosciutto and Arugula Pizza</th>\n",
       "      <td>34145.00</td>\n",
       "    </tr>\n",
       "    <tr>\n",
       "      <th>The Sicilian Pizza</th>\n",
       "      <td>43736.00</td>\n",
       "    </tr>\n",
       "    <tr>\n",
       "      <th>The Soppressata Pizza</th>\n",
       "      <td>22699.50</td>\n",
       "    </tr>\n",
       "    <tr>\n",
       "      <th>The Southwest Chicken Pizza</th>\n",
       "      <td>49041.25</td>\n",
       "    </tr>\n",
       "    <tr>\n",
       "      <th>The Spicy Italian Pizza</th>\n",
       "      <td>48257.00</td>\n",
       "    </tr>\n",
       "    <tr>\n",
       "      <th>The Spinach Pesto Pizza</th>\n",
       "      <td>21882.50</td>\n",
       "    </tr>\n",
       "    <tr>\n",
       "      <th>The Spinach Supreme Pizza</th>\n",
       "      <td>21123.25</td>\n",
       "    </tr>\n",
       "    <tr>\n",
       "      <th>The Spinach and Feta Pizza</th>\n",
       "      <td>32455.00</td>\n",
       "    </tr>\n",
       "    <tr>\n",
       "      <th>The Thai Chicken Pizza</th>\n",
       "      <td>61372.50</td>\n",
       "    </tr>\n",
       "    <tr>\n",
       "      <th>The Vegetables + Vegetables Pizza</th>\n",
       "      <td>33764.50</td>\n",
       "    </tr>\n",
       "  </tbody>\n",
       "</table>\n",
       "</div>"
      ],
      "text/plain": [
       "                                            total_price\n",
       "pizza_name                                             \n",
       "The Barbecue Chicken Pizza                     59096.00\n",
       "The Big Meat Pizza                             32232.00\n",
       "The Brie Carre Pizza                           16247.55\n",
       "The Calabrese Pizza                            22323.75\n",
       "The California Chicken Pizza                   58271.50\n",
       "The Chicken Alfredo Pizza                      23898.25\n",
       "The Chicken Pesto Pizza                        23431.75\n",
       "The Classic Deluxe Pizza                       53971.50\n",
       "The Five Cheese Pizza                          35779.00\n",
       "The Four Cheese Pizza                          45129.40\n",
       "The Greek Pizza                                39621.55\n",
       "The Green Garden Pizza                         19203.75\n",
       "The Hawaiian Pizza                             45687.50\n",
       "The Italian Capocollo Pizza                    34873.50\n",
       "The Italian Supreme Pizza                      46908.50\n",
       "The Italian Vegetables Pizza                   22290.50\n",
       "The Mediterranean Pizza                        21726.75\n",
       "The Mexicana Pizza                             37503.50\n",
       "The Napolitana Pizza                           33954.00\n",
       "The Pepper Salami Pizza                        35592.00\n",
       "The Pepperoni Pizza                            42336.00\n",
       "The Pepperoni, Mushroom, and Peppers Pizza     26277.00\n",
       "The Prosciutto and Arugula Pizza               34145.00\n",
       "The Sicilian Pizza                             43736.00\n",
       "The Soppressata Pizza                          22699.50\n",
       "The Southwest Chicken Pizza                    49041.25\n",
       "The Spicy Italian Pizza                        48257.00\n",
       "The Spinach Pesto Pizza                        21882.50\n",
       "The Spinach Supreme Pizza                      21123.25\n",
       "The Spinach and Feta Pizza                     32455.00\n",
       "The Thai Chicken Pizza                         61372.50\n",
       "The Vegetables + Vegetables Pizza              33764.50"
      ]
     },
     "execution_count": 71,
     "metadata": {},
     "output_type": "execute_result"
    }
   ],
   "source": [
    "#pizza name and total revenue generated\n",
    "pizza_sales[['pizza_name','total_price']].groupby('pizza_name').sum()"
   ]
  },
  {
   "cell_type": "code",
   "execution_count": 72,
   "id": "70c104a1",
   "metadata": {},
   "outputs": [
    {
     "data": {
      "text/plain": [
       "total_price    61372.5\n",
       "dtype: float64"
      ]
     },
     "execution_count": 72,
     "metadata": {},
     "output_type": "execute_result"
    }
   ],
   "source": [
    "# pizza with the higest sale\n",
    "pizza_sales[['pizza_name', 'total_price']].groupby('pizza_name').sum().max()"
   ]
  },
  {
   "cell_type": "code",
   "execution_count": 73,
   "id": "4810cf10",
   "metadata": {},
   "outputs": [
    {
     "data": {
      "text/plain": [
       "total_price    16247.55\n",
       "dtype: float64"
      ]
     },
     "execution_count": 73,
     "metadata": {},
     "output_type": "execute_result"
    }
   ],
   "source": [
    "# pizza with the least sale\n",
    "pizza_sales[['pizza_name', 'total_price']].groupby('pizza_name').sum().min()"
   ]
  },
  {
   "cell_type": "code",
   "execution_count": 74,
   "id": "6ae037d8",
   "metadata": {},
   "outputs": [
    {
     "data": {
      "text/plain": [
       "pizza_size\n",
       "L      524704.90\n",
       "M      349206.75\n",
       "S      250214.55\n",
       "XL      19303.50\n",
       "XXL      1402.05\n",
       "Name: total_price, dtype: float64"
      ]
     },
     "execution_count": 74,
     "metadata": {},
     "output_type": "execute_result"
    }
   ],
   "source": [
    "#pizza size and revenune\n",
    "pizza_sales.groupby('pizza_size')['total_price'].sum()"
   ]
  },
  {
   "cell_type": "code",
   "execution_count": 75,
   "id": "647f3f9c",
   "metadata": {},
   "outputs": [
    {
     "data": {
      "text/plain": [
       "pizza_category\n",
       "Chicken    275111.25\n",
       "Classic    308953.05\n",
       "Supreme    291032.55\n",
       "Veggie     269734.90\n",
       "Name: total_price, dtype: float64"
      ]
     },
     "execution_count": 75,
     "metadata": {},
     "output_type": "execute_result"
    }
   ],
   "source": [
    "#pizza category and revenune\n",
    "pizza_sales.groupby('pizza_category')['total_price'].sum()"
   ]
  },
  {
   "cell_type": "code",
   "execution_count": 557,
   "id": "3fe2e252",
   "metadata": {
    "scrolled": true
   },
   "outputs": [
    {
     "data": {
      "text/plain": [
       "0.6918048858642578"
      ]
     },
     "execution_count": 557,
     "metadata": {},
     "output_type": "execute_result"
    }
   ],
   "source": [
    "#time for code to run\n",
    "duration1 = time.time() - start\n",
    "duration1"
   ]
  },
  {
   "cell_type": "code",
   "execution_count": null,
   "id": "e19ca42d",
   "metadata": {},
   "outputs": [],
   "source": []
  },
  {
   "cell_type": "code",
   "execution_count": null,
   "id": "138174d0",
   "metadata": {},
   "outputs": [],
   "source": []
  }
 ],
 "metadata": {
  "kernelspec": {
   "display_name": "Python 3 (ipykernel)",
   "language": "python",
   "name": "python3"
  },
  "language_info": {
   "codemirror_mode": {
    "name": "ipython",
    "version": 3
   },
   "file_extension": ".py",
   "mimetype": "text/x-python",
   "name": "python",
   "nbconvert_exporter": "python",
   "pygments_lexer": "ipython3",
   "version": "3.9.7"
  }
 },
 "nbformat": 4,
 "nbformat_minor": 5
}
