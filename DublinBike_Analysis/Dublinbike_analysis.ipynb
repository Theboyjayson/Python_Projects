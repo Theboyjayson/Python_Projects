{
 "cells": [
  {
   "cell_type": "markdown",
   "id": "ac5e7515",
   "metadata": {},
   "source": [
    "TASK 1\n",
    "\n",
    "Since the program's inception in 2009, dublinbikes bicycles have been used on more than 27.6 million trips. More than 14% of all trips in the city center are now made by cyclists, many of whom use the dublinbikes cycling network. In particular, the program has 67,136 yearly subscribers, with 96% of them using free trips in 2019. Since its launch, Dublin City Council has benefited from dublinbikes' assistance in promoting a modal shift away from short-distance driving, which has led to less traffic congestion, fewer greenhouse gas emissions, and improvements to population health and the environment. \n",
    "\n",
    "The data set was obtained from our api hosted by JCDecaux and is a real-time bike data set with 13 columns and 1130 attributes per column for weekdays and weekends.(http://www.dublinbikes.ie/Magazine/Reports/Just-Eat-dublinbikes-latestfigures\n",
    "[Retrieved on 07/19/2019])\n",
    "\n",
    "In this research, the availability of bicycles and bike stands on weekdays and weekends is examined in greater detail. The following inquiries are designed to help us fully comprehend how time affects Dublin's availability of bikes and bike stands. The following question would be investigated and a result reached using the Dublin Bike data set.\n",
    "1. What is the average availabe bike on weekdays compared to weekends\n",
    "2. What is the busiest & quietest station during weekdays and weekends\n",
    "3. What is the number of available bikes for the answer of question 2(busiest & quietest station) for weekdays and weekends\n",
    "4. Does the presence of a credit card enabled facility influence bike useage on weekdays and weekends\n",
    "5. What is the total available bike stand, bike stand and available bikes that has a credit card enabled facility in a working day in contrast to a bank holiday?\n",
    "\n",
    "By providing answers to the aforementioned questions, we may better understand the differences between weekday and weekend bike usage in Dublin, as well as some of the factors that affect it, and draw conclusions."
   ]
  },
  {
   "cell_type": "code",
   "execution_count": 2,
   "id": "71f2b7ec",
   "metadata": {},
   "outputs": [],
   "source": [
    "import pandas as pd\n",
    "import numpy as np\n",
    "from pandas import DataFrame\n",
    "import warnings\n",
    "warnings.filterwarnings(\"ignore\")\n",
    "import requests\n",
    "import json\n",
    "\n",
    "wkday = pd.read_csv(\"weekday_dublin_bike.csv\")"
   ]
  },
  {
   "cell_type": "markdown",
   "id": "03ca0643",
   "metadata": {},
   "source": [
    "A dateframe is created and the columns are renamed to suit the exploratory analysis. Afterwards, the columns that will be used are selected"
   ]
  },
  {
   "cell_type": "code",
   "execution_count": 4,
   "id": "a4352abc",
   "metadata": {},
   "outputs": [
    {
     "data": {
      "text/html": [
       "<div>\n",
       "<style scoped>\n",
       "    .dataframe tbody tr th:only-of-type {\n",
       "        vertical-align: middle;\n",
       "    }\n",
       "\n",
       "    .dataframe tbody tr th {\n",
       "        vertical-align: top;\n",
       "    }\n",
       "\n",
       "    .dataframe thead th {\n",
       "        text-align: right;\n",
       "    }\n",
       "</style>\n",
       "<table border=\"1\" class=\"dataframe\">\n",
       "  <thead>\n",
       "    <tr style=\"text-align: right;\">\n",
       "      <th></th>\n",
       "      <th>NUMBER</th>\n",
       "      <th>CONTRACT_NAME</th>\n",
       "      <th>NAME</th>\n",
       "      <th>ADDRESS</th>\n",
       "      <th>POSITION</th>\n",
       "      <th>BANKING</th>\n",
       "      <th>BONUS</th>\n",
       "      <th>BIKE_STANDS</th>\n",
       "      <th>AVAILABLE_BIKE_STANDS</th>\n",
       "      <th>AVAILABLE_BIKES</th>\n",
       "      <th>STATUS</th>\n",
       "      <th>LAST_UPDATE</th>\n",
       "      <th>DATES</th>\n",
       "    </tr>\n",
       "  </thead>\n",
       "  <tbody>\n",
       "    <tr>\n",
       "      <th>0</th>\n",
       "      <td>42</td>\n",
       "      <td>dublin</td>\n",
       "      <td>SMITHFIELD NORTH</td>\n",
       "      <td>Smithfield North</td>\n",
       "      <td>{'lat': 53.349562, 'lng': -6.278198}</td>\n",
       "      <td>False</td>\n",
       "      <td>False</td>\n",
       "      <td>30</td>\n",
       "      <td>28</td>\n",
       "      <td>2</td>\n",
       "      <td>OPEN</td>\n",
       "      <td>1670512585000</td>\n",
       "      <td>2022-12-08 15:16:25</td>\n",
       "    </tr>\n",
       "    <tr>\n",
       "      <th>1</th>\n",
       "      <td>30</td>\n",
       "      <td>dublin</td>\n",
       "      <td>PARNELL SQUARE NORTH</td>\n",
       "      <td>Parnell Square North</td>\n",
       "      <td>{'lat': 53.3537415547453, 'lng': -6.2653014478...</td>\n",
       "      <td>False</td>\n",
       "      <td>False</td>\n",
       "      <td>20</td>\n",
       "      <td>18</td>\n",
       "      <td>2</td>\n",
       "      <td>OPEN</td>\n",
       "      <td>1670512436000</td>\n",
       "      <td>2022-12-08 15:13:56</td>\n",
       "    </tr>\n",
       "    <tr>\n",
       "      <th>2</th>\n",
       "      <td>54</td>\n",
       "      <td>dublin</td>\n",
       "      <td>CLONMEL STREET</td>\n",
       "      <td>Clonmel Street</td>\n",
       "      <td>{'lat': 53.336021, 'lng': -6.26298}</td>\n",
       "      <td>False</td>\n",
       "      <td>False</td>\n",
       "      <td>33</td>\n",
       "      <td>16</td>\n",
       "      <td>17</td>\n",
       "      <td>OPEN</td>\n",
       "      <td>1670512607000</td>\n",
       "      <td>2022-12-08 15:16:47</td>\n",
       "    </tr>\n",
       "    <tr>\n",
       "      <th>3</th>\n",
       "      <td>108</td>\n",
       "      <td>dublin</td>\n",
       "      <td>AVONDALE ROAD</td>\n",
       "      <td>Avondale Road</td>\n",
       "      <td>{'lat': 53.359405, 'lng': -6.276142}</td>\n",
       "      <td>False</td>\n",
       "      <td>False</td>\n",
       "      <td>35</td>\n",
       "      <td>22</td>\n",
       "      <td>13</td>\n",
       "      <td>OPEN</td>\n",
       "      <td>1670512550000</td>\n",
       "      <td>2022-12-08 15:15:50</td>\n",
       "    </tr>\n",
       "    <tr>\n",
       "      <th>4</th>\n",
       "      <td>20</td>\n",
       "      <td>dublin</td>\n",
       "      <td>JAMES STREET EAST</td>\n",
       "      <td>James Street East</td>\n",
       "      <td>{'lat': 53.336597, 'lng': -6.248109}</td>\n",
       "      <td>False</td>\n",
       "      <td>False</td>\n",
       "      <td>30</td>\n",
       "      <td>11</td>\n",
       "      <td>19</td>\n",
       "      <td>OPEN</td>\n",
       "      <td>1670512642000</td>\n",
       "      <td>2022-12-08 15:17:22</td>\n",
       "    </tr>\n",
       "    <tr>\n",
       "      <th>...</th>\n",
       "      <td>...</td>\n",
       "      <td>...</td>\n",
       "      <td>...</td>\n",
       "      <td>...</td>\n",
       "      <td>...</td>\n",
       "      <td>...</td>\n",
       "      <td>...</td>\n",
       "      <td>...</td>\n",
       "      <td>...</td>\n",
       "      <td>...</td>\n",
       "      <td>...</td>\n",
       "      <td>...</td>\n",
       "      <td>...</td>\n",
       "    </tr>\n",
       "    <tr>\n",
       "      <th>1125</th>\n",
       "      <td>39</td>\n",
       "      <td>dublin</td>\n",
       "      <td>WILTON TERRACE</td>\n",
       "      <td>Wilton Terrace</td>\n",
       "      <td>{'lat': 53.332383, 'lng': -6.252717}</td>\n",
       "      <td>False</td>\n",
       "      <td>False</td>\n",
       "      <td>20</td>\n",
       "      <td>12</td>\n",
       "      <td>8</td>\n",
       "      <td>OPEN</td>\n",
       "      <td>1670523551000</td>\n",
       "      <td>2022-12-08 18:19:11</td>\n",
       "    </tr>\n",
       "    <tr>\n",
       "      <th>1126</th>\n",
       "      <td>83</td>\n",
       "      <td>dublin</td>\n",
       "      <td>EMMET ROAD</td>\n",
       "      <td>Emmet Road</td>\n",
       "      <td>{'lat': 53.340714, 'lng': -6.308191}</td>\n",
       "      <td>False</td>\n",
       "      <td>False</td>\n",
       "      <td>40</td>\n",
       "      <td>21</td>\n",
       "      <td>19</td>\n",
       "      <td>OPEN</td>\n",
       "      <td>1670523583000</td>\n",
       "      <td>2022-12-08 18:19:43</td>\n",
       "    </tr>\n",
       "    <tr>\n",
       "      <th>1127</th>\n",
       "      <td>92</td>\n",
       "      <td>dublin</td>\n",
       "      <td>HEUSTON BRIDGE (NORTH)</td>\n",
       "      <td>Heuston Bridge (North)</td>\n",
       "      <td>{'lat': 53.347802, 'lng': -6.292432}</td>\n",
       "      <td>False</td>\n",
       "      <td>False</td>\n",
       "      <td>40</td>\n",
       "      <td>0</td>\n",
       "      <td>40</td>\n",
       "      <td>OPEN</td>\n",
       "      <td>1670523614000</td>\n",
       "      <td>2022-12-08 18:20:14</td>\n",
       "    </tr>\n",
       "    <tr>\n",
       "      <th>1128</th>\n",
       "      <td>21</td>\n",
       "      <td>dublin</td>\n",
       "      <td>LEINSTER STREET SOUTH</td>\n",
       "      <td>Leinster Street South</td>\n",
       "      <td>{'lat': 53.34218, 'lng': -6.254485}</td>\n",
       "      <td>False</td>\n",
       "      <td>False</td>\n",
       "      <td>30</td>\n",
       "      <td>5</td>\n",
       "      <td>25</td>\n",
       "      <td>OPEN</td>\n",
       "      <td>1670523629000</td>\n",
       "      <td>2022-12-08 18:20:29</td>\n",
       "    </tr>\n",
       "    <tr>\n",
       "      <th>1129</th>\n",
       "      <td>88</td>\n",
       "      <td>dublin</td>\n",
       "      <td>BLACKHALL PLACE</td>\n",
       "      <td>Blackhall Place</td>\n",
       "      <td>{'lat': 53.3488, 'lng': -6.281637}</td>\n",
       "      <td>False</td>\n",
       "      <td>False</td>\n",
       "      <td>30</td>\n",
       "      <td>26</td>\n",
       "      <td>4</td>\n",
       "      <td>OPEN</td>\n",
       "      <td>1670523630000</td>\n",
       "      <td>2022-12-08 18:20:30</td>\n",
       "    </tr>\n",
       "  </tbody>\n",
       "</table>\n",
       "<p>1130 rows × 13 columns</p>\n",
       "</div>"
      ],
      "text/plain": [
       "      NUMBER CONTRACT_NAME                    NAME                 ADDRESS  \\\n",
       "0         42        dublin        SMITHFIELD NORTH        Smithfield North   \n",
       "1         30        dublin    PARNELL SQUARE NORTH    Parnell Square North   \n",
       "2         54        dublin          CLONMEL STREET          Clonmel Street   \n",
       "3        108        dublin           AVONDALE ROAD           Avondale Road   \n",
       "4         20        dublin       JAMES STREET EAST       James Street East   \n",
       "...      ...           ...                     ...                     ...   \n",
       "1125      39        dublin          WILTON TERRACE          Wilton Terrace   \n",
       "1126      83        dublin              EMMET ROAD              Emmet Road   \n",
       "1127      92        dublin  HEUSTON BRIDGE (NORTH)  Heuston Bridge (North)   \n",
       "1128      21        dublin   LEINSTER STREET SOUTH   Leinster Street South   \n",
       "1129      88        dublin         BLACKHALL PLACE         Blackhall Place   \n",
       "\n",
       "                                               POSITION  BANKING  BONUS  \\\n",
       "0                  {'lat': 53.349562, 'lng': -6.278198}    False  False   \n",
       "1     {'lat': 53.3537415547453, 'lng': -6.2653014478...    False  False   \n",
       "2                   {'lat': 53.336021, 'lng': -6.26298}    False  False   \n",
       "3                  {'lat': 53.359405, 'lng': -6.276142}    False  False   \n",
       "4                  {'lat': 53.336597, 'lng': -6.248109}    False  False   \n",
       "...                                                 ...      ...    ...   \n",
       "1125               {'lat': 53.332383, 'lng': -6.252717}    False  False   \n",
       "1126               {'lat': 53.340714, 'lng': -6.308191}    False  False   \n",
       "1127               {'lat': 53.347802, 'lng': -6.292432}    False  False   \n",
       "1128                {'lat': 53.34218, 'lng': -6.254485}    False  False   \n",
       "1129                 {'lat': 53.3488, 'lng': -6.281637}    False  False   \n",
       "\n",
       "      BIKE_STANDS  AVAILABLE_BIKE_STANDS  AVAILABLE_BIKES STATUS  \\\n",
       "0              30                     28                2   OPEN   \n",
       "1              20                     18                2   OPEN   \n",
       "2              33                     16               17   OPEN   \n",
       "3              35                     22               13   OPEN   \n",
       "4              30                     11               19   OPEN   \n",
       "...           ...                    ...              ...    ...   \n",
       "1125           20                     12                8   OPEN   \n",
       "1126           40                     21               19   OPEN   \n",
       "1127           40                      0               40   OPEN   \n",
       "1128           30                      5               25   OPEN   \n",
       "1129           30                     26                4   OPEN   \n",
       "\n",
       "        LAST_UPDATE                DATES  \n",
       "0     1670512585000  2022-12-08 15:16:25  \n",
       "1     1670512436000  2022-12-08 15:13:56  \n",
       "2     1670512607000  2022-12-08 15:16:47  \n",
       "3     1670512550000  2022-12-08 15:15:50  \n",
       "4     1670512642000  2022-12-08 15:17:22  \n",
       "...             ...                  ...  \n",
       "1125  1670523551000  2022-12-08 18:19:11  \n",
       "1126  1670523583000  2022-12-08 18:19:43  \n",
       "1127  1670523614000  2022-12-08 18:20:14  \n",
       "1128  1670523629000  2022-12-08 18:20:29  \n",
       "1129  1670523630000  2022-12-08 18:20:30  \n",
       "\n",
       "[1130 rows x 13 columns]"
      ]
     },
     "execution_count": 4,
     "metadata": {},
     "output_type": "execute_result"
    }
   ],
   "source": [
    "\n",
    "wkday = wkday.rename(columns = {\"NUMBER\": \"NUMBER\", \"CONTRACT NAME\":\"CONTRACT_NAME\", \"name\":\"NAME\", \"address\":\"ADDRESS\",\"position\":\"POSITION\",\"BANKING\":\"BANKING\",\n",
    "       \"bonus\":\"BONUS\",\"latitude\":\"LATITUDE\", \"longitude\":\"LONGITUDE\",\"BIKE STANDS\":\"BIKE_STANDS\",\"AVAILABLE BIKE STANDS\":\"AVAILABLE_BIKE_STANDS\",\"AVAILABLE BIKES\":\"AVAILABLE_BIKES\",\n",
    "       \"status\":\"STATUS\",\"LAST UPDATE\":\"LAST_UPDATE\",\"dates\":\"DATES\"})\n",
    "\n",
    "wkday = pd.DataFrame(wkday,columns =['NUMBER', 'CONTRACT_NAME', 'NAME', 'ADDRESS', 'POSITION','BANKING',\n",
    "       'BONUS','BIKE_STANDS', 'AVAILABLE_BIKE_STANDS', 'AVAILABLE_BIKES',\n",
    "       'STATUS', 'LAST_UPDATE', 'DATES'])\n",
    "wkday"
   ]
  },
  {
   "cell_type": "code",
   "execution_count": 5,
   "id": "3a6ad456",
   "metadata": {},
   "outputs": [
    {
     "data": {
      "text/html": [
       "<div>\n",
       "<style scoped>\n",
       "    .dataframe tbody tr th:only-of-type {\n",
       "        vertical-align: middle;\n",
       "    }\n",
       "\n",
       "    .dataframe tbody tr th {\n",
       "        vertical-align: top;\n",
       "    }\n",
       "\n",
       "    .dataframe thead th {\n",
       "        text-align: right;\n",
       "    }\n",
       "</style>\n",
       "<table border=\"1\" class=\"dataframe\">\n",
       "  <thead>\n",
       "    <tr style=\"text-align: right;\">\n",
       "      <th></th>\n",
       "      <th>NUMBER</th>\n",
       "      <th>CONTRACT_NAME</th>\n",
       "      <th>NAME</th>\n",
       "      <th>ADDRESS</th>\n",
       "      <th>POSITION</th>\n",
       "      <th>BANKING</th>\n",
       "      <th>BONUS</th>\n",
       "      <th>BIKE_STANDS</th>\n",
       "      <th>AVAILABLE_BIKE_STANDS</th>\n",
       "      <th>AVAILABLE_BIKES</th>\n",
       "      <th>STATUS</th>\n",
       "      <th>LAST_UPDATE</th>\n",
       "      <th>DATES</th>\n",
       "    </tr>\n",
       "  </thead>\n",
       "  <tbody>\n",
       "    <tr>\n",
       "      <th>0</th>\n",
       "      <td>42</td>\n",
       "      <td>dublin</td>\n",
       "      <td>SMITHFIELD NORTH</td>\n",
       "      <td>Smithfield North</td>\n",
       "      <td>{'lat': 53.349562, 'lng': -6.278198}</td>\n",
       "      <td>False</td>\n",
       "      <td>False</td>\n",
       "      <td>30</td>\n",
       "      <td>24</td>\n",
       "      <td>6</td>\n",
       "      <td>OPEN</td>\n",
       "      <td>1670671819000</td>\n",
       "      <td>2022-12-10 11:30:19</td>\n",
       "    </tr>\n",
       "    <tr>\n",
       "      <th>1</th>\n",
       "      <td>30</td>\n",
       "      <td>dublin</td>\n",
       "      <td>PARNELL SQUARE NORTH</td>\n",
       "      <td>Parnell Square North</td>\n",
       "      <td>{'lat': 53.3537415547453, 'lng': -6.2653014478...</td>\n",
       "      <td>False</td>\n",
       "      <td>False</td>\n",
       "      <td>20</td>\n",
       "      <td>14</td>\n",
       "      <td>6</td>\n",
       "      <td>OPEN</td>\n",
       "      <td>1670672120000</td>\n",
       "      <td>2022-12-10 11:35:20</td>\n",
       "    </tr>\n",
       "    <tr>\n",
       "      <th>2</th>\n",
       "      <td>54</td>\n",
       "      <td>dublin</td>\n",
       "      <td>CLONMEL STREET</td>\n",
       "      <td>Clonmel Street</td>\n",
       "      <td>{'lat': 53.336021, 'lng': -6.26298}</td>\n",
       "      <td>False</td>\n",
       "      <td>False</td>\n",
       "      <td>33</td>\n",
       "      <td>26</td>\n",
       "      <td>7</td>\n",
       "      <td>OPEN</td>\n",
       "      <td>1670672185000</td>\n",
       "      <td>2022-12-10 11:36:25</td>\n",
       "    </tr>\n",
       "    <tr>\n",
       "      <th>3</th>\n",
       "      <td>108</td>\n",
       "      <td>dublin</td>\n",
       "      <td>AVONDALE ROAD</td>\n",
       "      <td>Avondale Road</td>\n",
       "      <td>{'lat': 53.359405, 'lng': -6.276142}</td>\n",
       "      <td>False</td>\n",
       "      <td>False</td>\n",
       "      <td>35</td>\n",
       "      <td>25</td>\n",
       "      <td>10</td>\n",
       "      <td>OPEN</td>\n",
       "      <td>1670671772000</td>\n",
       "      <td>2022-12-10 11:29:32</td>\n",
       "    </tr>\n",
       "    <tr>\n",
       "      <th>4</th>\n",
       "      <td>20</td>\n",
       "      <td>dublin</td>\n",
       "      <td>JAMES STREET EAST</td>\n",
       "      <td>James Street East</td>\n",
       "      <td>{'lat': 53.336597, 'lng': -6.248109}</td>\n",
       "      <td>False</td>\n",
       "      <td>False</td>\n",
       "      <td>30</td>\n",
       "      <td>27</td>\n",
       "      <td>3</td>\n",
       "      <td>OPEN</td>\n",
       "      <td>1670672260000</td>\n",
       "      <td>2022-12-10 11:37:40</td>\n",
       "    </tr>\n",
       "    <tr>\n",
       "      <th>...</th>\n",
       "      <td>...</td>\n",
       "      <td>...</td>\n",
       "      <td>...</td>\n",
       "      <td>...</td>\n",
       "      <td>...</td>\n",
       "      <td>...</td>\n",
       "      <td>...</td>\n",
       "      <td>...</td>\n",
       "      <td>...</td>\n",
       "      <td>...</td>\n",
       "      <td>...</td>\n",
       "      <td>...</td>\n",
       "      <td>...</td>\n",
       "    </tr>\n",
       "    <tr>\n",
       "      <th>1125</th>\n",
       "      <td>39</td>\n",
       "      <td>dublin</td>\n",
       "      <td>WILTON TERRACE</td>\n",
       "      <td>Wilton Terrace</td>\n",
       "      <td>{'lat': 53.332383, 'lng': -6.252717}</td>\n",
       "      <td>False</td>\n",
       "      <td>False</td>\n",
       "      <td>20</td>\n",
       "      <td>20</td>\n",
       "      <td>0</td>\n",
       "      <td>OPEN</td>\n",
       "      <td>1670679966000</td>\n",
       "      <td>2022-12-10 13:46:06</td>\n",
       "    </tr>\n",
       "    <tr>\n",
       "      <th>1126</th>\n",
       "      <td>83</td>\n",
       "      <td>dublin</td>\n",
       "      <td>EMMET ROAD</td>\n",
       "      <td>Emmet Road</td>\n",
       "      <td>{'lat': 53.340714, 'lng': -6.308191}</td>\n",
       "      <td>False</td>\n",
       "      <td>False</td>\n",
       "      <td>40</td>\n",
       "      <td>21</td>\n",
       "      <td>19</td>\n",
       "      <td>OPEN</td>\n",
       "      <td>1670679850000</td>\n",
       "      <td>2022-12-10 13:44:10</td>\n",
       "    </tr>\n",
       "    <tr>\n",
       "      <th>1127</th>\n",
       "      <td>92</td>\n",
       "      <td>dublin</td>\n",
       "      <td>HEUSTON BRIDGE (NORTH)</td>\n",
       "      <td>Heuston Bridge (North)</td>\n",
       "      <td>{'lat': 53.347802, 'lng': -6.292432}</td>\n",
       "      <td>False</td>\n",
       "      <td>False</td>\n",
       "      <td>40</td>\n",
       "      <td>18</td>\n",
       "      <td>22</td>\n",
       "      <td>OPEN</td>\n",
       "      <td>1670680245000</td>\n",
       "      <td>2022-12-10 13:50:45</td>\n",
       "    </tr>\n",
       "    <tr>\n",
       "      <th>1128</th>\n",
       "      <td>21</td>\n",
       "      <td>dublin</td>\n",
       "      <td>LEINSTER STREET SOUTH</td>\n",
       "      <td>Leinster Street South</td>\n",
       "      <td>{'lat': 53.34218, 'lng': -6.254485}</td>\n",
       "      <td>False</td>\n",
       "      <td>False</td>\n",
       "      <td>30</td>\n",
       "      <td>8</td>\n",
       "      <td>22</td>\n",
       "      <td>OPEN</td>\n",
       "      <td>1670680108000</td>\n",
       "      <td>2022-12-10 13:48:28</td>\n",
       "    </tr>\n",
       "    <tr>\n",
       "      <th>1129</th>\n",
       "      <td>88</td>\n",
       "      <td>dublin</td>\n",
       "      <td>BLACKHALL PLACE</td>\n",
       "      <td>Blackhall Place</td>\n",
       "      <td>{'lat': 53.3488, 'lng': -6.281637}</td>\n",
       "      <td>False</td>\n",
       "      <td>False</td>\n",
       "      <td>30</td>\n",
       "      <td>23</td>\n",
       "      <td>7</td>\n",
       "      <td>OPEN</td>\n",
       "      <td>1670680288000</td>\n",
       "      <td>2022-12-10 13:51:28</td>\n",
       "    </tr>\n",
       "  </tbody>\n",
       "</table>\n",
       "<p>1130 rows × 13 columns</p>\n",
       "</div>"
      ],
      "text/plain": [
       "      NUMBER CONTRACT_NAME                    NAME                 ADDRESS  \\\n",
       "0         42        dublin        SMITHFIELD NORTH        Smithfield North   \n",
       "1         30        dublin    PARNELL SQUARE NORTH    Parnell Square North   \n",
       "2         54        dublin          CLONMEL STREET          Clonmel Street   \n",
       "3        108        dublin           AVONDALE ROAD           Avondale Road   \n",
       "4         20        dublin       JAMES STREET EAST       James Street East   \n",
       "...      ...           ...                     ...                     ...   \n",
       "1125      39        dublin          WILTON TERRACE          Wilton Terrace   \n",
       "1126      83        dublin              EMMET ROAD              Emmet Road   \n",
       "1127      92        dublin  HEUSTON BRIDGE (NORTH)  Heuston Bridge (North)   \n",
       "1128      21        dublin   LEINSTER STREET SOUTH   Leinster Street South   \n",
       "1129      88        dublin         BLACKHALL PLACE         Blackhall Place   \n",
       "\n",
       "                                               POSITION  BANKING  BONUS  \\\n",
       "0                  {'lat': 53.349562, 'lng': -6.278198}    False  False   \n",
       "1     {'lat': 53.3537415547453, 'lng': -6.2653014478...    False  False   \n",
       "2                   {'lat': 53.336021, 'lng': -6.26298}    False  False   \n",
       "3                  {'lat': 53.359405, 'lng': -6.276142}    False  False   \n",
       "4                  {'lat': 53.336597, 'lng': -6.248109}    False  False   \n",
       "...                                                 ...      ...    ...   \n",
       "1125               {'lat': 53.332383, 'lng': -6.252717}    False  False   \n",
       "1126               {'lat': 53.340714, 'lng': -6.308191}    False  False   \n",
       "1127               {'lat': 53.347802, 'lng': -6.292432}    False  False   \n",
       "1128                {'lat': 53.34218, 'lng': -6.254485}    False  False   \n",
       "1129                 {'lat': 53.3488, 'lng': -6.281637}    False  False   \n",
       "\n",
       "      BIKE_STANDS  AVAILABLE_BIKE_STANDS  AVAILABLE_BIKES STATUS  \\\n",
       "0              30                     24                6   OPEN   \n",
       "1              20                     14                6   OPEN   \n",
       "2              33                     26                7   OPEN   \n",
       "3              35                     25               10   OPEN   \n",
       "4              30                     27                3   OPEN   \n",
       "...           ...                    ...              ...    ...   \n",
       "1125           20                     20                0   OPEN   \n",
       "1126           40                     21               19   OPEN   \n",
       "1127           40                     18               22   OPEN   \n",
       "1128           30                      8               22   OPEN   \n",
       "1129           30                     23                7   OPEN   \n",
       "\n",
       "        LAST_UPDATE                DATES  \n",
       "0     1670671819000  2022-12-10 11:30:19  \n",
       "1     1670672120000  2022-12-10 11:35:20  \n",
       "2     1670672185000  2022-12-10 11:36:25  \n",
       "3     1670671772000  2022-12-10 11:29:32  \n",
       "4     1670672260000  2022-12-10 11:37:40  \n",
       "...             ...                  ...  \n",
       "1125  1670679966000  2022-12-10 13:46:06  \n",
       "1126  1670679850000  2022-12-10 13:44:10  \n",
       "1127  1670680245000  2022-12-10 13:50:45  \n",
       "1128  1670680108000  2022-12-10 13:48:28  \n",
       "1129  1670680288000  2022-12-10 13:51:28  \n",
       "\n",
       "[1130 rows x 13 columns]"
      ]
     },
     "execution_count": 5,
     "metadata": {},
     "output_type": "execute_result"
    }
   ],
   "source": [
    "wkend = pd.read_csv(\"wknd_dublin_bike.csv\")\n",
    "wkend = wkend.rename(columns = {\"NUMBER\": \"NUMBER\", \"CONTRACT NAME\":\"CONTRACT_NAME\", \"name\":\"NAME\", \"address\":\"ADDRESS\",\"position\":\"POSITION\",\"BANKING\":\"BANKING\",\n",
    "       \"bonus\":\"BONUS\",\"latitude\":\"LATITUDE\", \"longitude\":\"LONGITUDE\",\"BIKE STANDS\":\"BIKE_STANDS\",\"AVAILABLE BIKE STANDS\":\"AVAILABLE_BIKE_STANDS\",\"AVAILABLE BIKES\":\"AVAILABLE_BIKES\",\n",
    "       \"status\":\"STATUS\",\"LAST UPDATE\":\"LAST_UPDATE\",\"dates\":\"DATES\"})\n",
    "\n",
    "wkend = pd.DataFrame(wkend,columns =['NUMBER', 'CONTRACT_NAME', 'NAME', 'ADDRESS', 'POSITION','BANKING',\n",
    "       'BONUS','BIKE_STANDS', 'AVAILABLE_BIKE_STANDS', 'AVAILABLE_BIKES',\n",
    "       'STATUS', 'LAST_UPDATE', 'DATES'])\n",
    "wkend"
   ]
  },
  {
   "cell_type": "markdown",
   "id": "d3c305f0",
   "metadata": {},
   "source": [
    "1. The average availabe bike on weekdays compared to weekends"
   ]
  },
  {
   "cell_type": "code",
   "execution_count": 42,
   "id": "306b6be4",
   "metadata": {},
   "outputs": [
    {
     "data": {
      "text/plain": [
       "11.338053097345133"
      ]
     },
     "execution_count": 42,
     "metadata": {},
     "output_type": "execute_result"
    }
   ],
   "source": [
    "wkday.AVAILABLE_BIKES.mean()"
   ]
  },
  {
   "cell_type": "code",
   "execution_count": 8,
   "id": "bc8cf024",
   "metadata": {},
   "outputs": [
    {
     "data": {
      "text/plain": [
       "12.172566371681416"
      ]
     },
     "execution_count": 8,
     "metadata": {},
     "output_type": "execute_result"
    }
   ],
   "source": [
    "wkend.AVAILABLE_BIKES.mean()"
   ]
  },
  {
   "cell_type": "markdown",
   "id": "4d7fa39d",
   "metadata": {},
   "source": [
    "This means that bike usage are more on weekdays compared to weekends because there are more available bikes on weekends i.e lesser bike stands"
   ]
  },
  {
   "cell_type": "markdown",
   "id": "ddd6fa5f",
   "metadata": {},
   "source": []
  },
  {
   "cell_type": "markdown",
   "id": "26bafe52",
   "metadata": {},
   "source": [
    "2. What is the busiest & quietest station during weekdays and weekends?\n",
    "what address has the highest & lowest number of available bikes "
   ]
  },
  {
   "cell_type": "markdown",
   "id": "3e470771",
   "metadata": {},
   "source": [
    "to answer question 2, we create a column for the percentage of bike stands by dividing the available bike stands by the number of bike stands"
   ]
  },
  {
   "cell_type": "code",
   "execution_count": 12,
   "id": "2e920fe7",
   "metadata": {},
   "outputs": [],
   "source": [
    "wkday[\"AVAILABLE_BIKE_STANDS%\"]=wkday[\"AVAILABLE_BIKE_STANDS\"]/wkday[\"BIKE_STANDS\"]\n",
    "wkend[\"AVAILABLE_BIKE_STANDS%\"]=wkend[\"AVAILABLE_BIKE_STANDS\"]/wkend[\"BIKE_STANDS\"]"
   ]
  },
  {
   "cell_type": "code",
   "execution_count": 27,
   "id": "468bd76c",
   "metadata": {},
   "outputs": [
    {
     "data": {
      "text/plain": [
       "[AVAILABLE_BIKE_STANDS%    MOUNTJOY SQUARE EAST\n",
       " dtype: object,\n",
       " AVAILABLE_BIKE_STANDS%    9.95\n",
       " dtype: float64]"
      ]
     },
     "execution_count": 27,
     "metadata": {},
     "output_type": "execute_result"
    }
   ],
   "source": [
    "wk = []\n",
    "df = wkday[['NAME','AVAILABLE_BIKE_STANDS%']].groupby(['NAME'])\n",
    "df.sum().max()\n",
    "value = df.sum().max()\n",
    "key = df.sum().idxmax()\n",
    "wk.append(key)\n",
    "wk.append(value)\n",
    "wk"
   ]
  },
  {
   "cell_type": "markdown",
   "id": "3b216ec1",
   "metadata": {},
   "source": [
    "MOUNTJOY SQUARE EAST becomes the busiest station with the most available bike stands percentage"
   ]
  },
  {
   "cell_type": "code",
   "execution_count": 28,
   "id": "06f4555b",
   "metadata": {},
   "outputs": [
    {
     "data": {
      "text/plain": [
       "[AVAILABLE_BIKE_STANDS%    GEORGES QUAY\n",
       " dtype: object,\n",
       " AVAILABLE_BIKE_STANDS%    0.85\n",
       " dtype: float64]"
      ]
     },
     "execution_count": 28,
     "metadata": {},
     "output_type": "execute_result"
    }
   ],
   "source": [
    "wk = []\n",
    "df = wkday[['NAME','AVAILABLE_BIKE_STANDS%']].groupby(['NAME'])\n",
    "df.sum().max()\n",
    "value = df.sum().min()\n",
    "key = df.sum().idxmin()\n",
    "wk.append(key)\n",
    "wk.append(value)\n",
    "wk"
   ]
  },
  {
   "cell_type": "markdown",
   "id": "a98e2a5e",
   "metadata": {},
   "source": [
    "Meanwhile, the quitest station on a weekday is GEORGES QUAY with just 0.85% of the avaialable bike stands pecentage "
   ]
  },
  {
   "cell_type": "markdown",
   "id": "d9915d80",
   "metadata": {},
   "source": [
    "For weekends"
   ]
  },
  {
   "cell_type": "code",
   "execution_count": 29,
   "id": "7bbf6b06",
   "metadata": {},
   "outputs": [
    {
     "data": {
      "text/plain": [
       "[AVAILABLE_BIKE_STANDS%    GEORGES LANE\n",
       " dtype: object,\n",
       " AVAILABLE_BIKE_STANDS%    9.9\n",
       " dtype: float64]"
      ]
     },
     "execution_count": 29,
     "metadata": {},
     "output_type": "execute_result"
    }
   ],
   "source": [
    "wk = []\n",
    "df = wkend[['NAME','AVAILABLE_BIKE_STANDS%']].groupby(['NAME'])\n",
    "df.sum().max()\n",
    "value = df.sum().max()\n",
    "key = df.sum().idxmax()\n",
    "wk.append(key)\n",
    "wk.append(value)\n",
    "wk"
   ]
  },
  {
   "cell_type": "markdown",
   "id": "23dd1d66",
   "metadata": {},
   "source": [
    "Intrestingly, the busiest station on weekends appears to be Georges Lane with 9.9% of the available bike stands percentage"
   ]
  },
  {
   "cell_type": "code",
   "execution_count": 30,
   "id": "cbb62003",
   "metadata": {},
   "outputs": [
    {
     "data": {
      "text/plain": [
       "[AVAILABLE_BIKE_STANDS%    FOWNES STREET UPPER\n",
       " dtype: object,\n",
       " AVAILABLE_BIKE_STANDS%    0.0\n",
       " dtype: float64]"
      ]
     },
     "execution_count": 30,
     "metadata": {},
     "output_type": "execute_result"
    }
   ],
   "source": [
    "wk = []\n",
    "df = wkend[['NAME','AVAILABLE_BIKE_STANDS%']].groupby(['NAME'])\n",
    "df.sum().max()\n",
    "value = df.sum().min()\n",
    "key = df.sum().idxmin()\n",
    "wk.append(key)\n",
    "wk.append(value)\n",
    "wk"
   ]
  },
  {
   "cell_type": "markdown",
   "id": "c8bea6be",
   "metadata": {},
   "source": [
    "Meanwhile, the quietest station is Fownes Street Upper"
   ]
  },
  {
   "cell_type": "markdown",
   "id": "6c7ead69",
   "metadata": {},
   "source": []
  },
  {
   "cell_type": "markdown",
   "id": "bef6a34b",
   "metadata": {},
   "source": [
    "3. what is the number of available bikes for the answers to question 2 above?"
   ]
  },
  {
   "cell_type": "code",
   "execution_count": 105,
   "id": "b2a93f3b",
   "metadata": {},
   "outputs": [
    {
     "data": {
      "text/plain": [
       "2"
      ]
     },
     "execution_count": 105,
     "metadata": {},
     "output_type": "execute_result"
    }
   ],
   "source": [
    "wkday[wkday.NAME==\"MOUNTJOY SQUARE EAST\"].AVAILABLE_BIKES.sum()"
   ]
  },
  {
   "cell_type": "markdown",
   "id": "278ffbda",
   "metadata": {},
   "source": [
    "The number of available bikes for MOUNTJOY SQUARE EAST is shown as 2, This further explains why it is the busiest station due to the low number of bikes available."
   ]
  },
  {
   "cell_type": "code",
   "execution_count": 106,
   "id": "3c2d95da",
   "metadata": {},
   "outputs": [
    {
     "data": {
      "text/plain": [
       "183"
      ]
     },
     "execution_count": 106,
     "metadata": {},
     "output_type": "execute_result"
    }
   ],
   "source": [
    "wkday[wkday.NAME==\"GEORGES QUAY\"].AVAILABLE_BIKES.sum()"
   ]
  },
  {
   "cell_type": "markdown",
   "id": "ecbdc1a4",
   "metadata": {},
   "source": [
    "Unlike the busiest station, Georges Quay has a total of 183 available bikes "
   ]
  },
  {
   "cell_type": "markdown",
   "id": "62e1329c",
   "metadata": {},
   "source": [
    "for weekends"
   ]
  },
  {
   "cell_type": "code",
   "execution_count": 107,
   "id": "84eaecb2",
   "metadata": {},
   "outputs": [
    {
     "data": {
      "text/plain": [
       "4"
      ]
     },
     "execution_count": 107,
     "metadata": {},
     "output_type": "execute_result"
    }
   ],
   "source": [
    "wkend[wkend.NAME==\"GEORGES LANE\"].AVAILABLE_BIKES.sum()"
   ]
  },
  {
   "cell_type": "markdown",
   "id": "c485d9c6",
   "metadata": {},
   "source": [
    "The number of available bikes for the busiest station on weekends is 4"
   ]
  },
  {
   "cell_type": "code",
   "execution_count": 17,
   "id": "6f4413d9",
   "metadata": {},
   "outputs": [
    {
     "data": {
      "text/plain": [
       "300"
      ]
     },
     "execution_count": 17,
     "metadata": {},
     "output_type": "execute_result"
    }
   ],
   "source": [
    "wkend[wkend.NAME==\"FOWNES STREET UPPER\"].AVAILABLE_BIKES.sum()"
   ]
  },
  {
   "cell_type": "markdown",
   "id": "5f1c45c1",
   "metadata": {},
   "source": [
    "Fownes Street Upper has available bikes 300"
   ]
  },
  {
   "cell_type": "markdown",
   "id": "20267273",
   "metadata": {},
   "source": [
    "4. The next question is to know if the presence of a credit card enabled machine would influence bike useage in both cases"
   ]
  },
  {
   "cell_type": "code",
   "execution_count": 40,
   "id": "9b0d193c",
   "metadata": {},
   "outputs": [
    {
     "data": {
      "text/html": [
       "<div>\n",
       "<style scoped>\n",
       "    .dataframe tbody tr th:only-of-type {\n",
       "        vertical-align: middle;\n",
       "    }\n",
       "\n",
       "    .dataframe tbody tr th {\n",
       "        vertical-align: top;\n",
       "    }\n",
       "\n",
       "    .dataframe thead th {\n",
       "        text-align: right;\n",
       "    }\n",
       "</style>\n",
       "<table border=\"1\" class=\"dataframe\">\n",
       "  <thead>\n",
       "    <tr style=\"text-align: right;\">\n",
       "      <th></th>\n",
       "      <th>mean</th>\n",
       "    </tr>\n",
       "    <tr>\n",
       "      <th>BANKING</th>\n",
       "      <th></th>\n",
       "    </tr>\n",
       "  </thead>\n",
       "  <tbody>\n",
       "    <tr>\n",
       "      <th>False</th>\n",
       "      <td>11.203704</td>\n",
       "    </tr>\n",
       "    <tr>\n",
       "      <th>True</th>\n",
       "      <td>14.240000</td>\n",
       "    </tr>\n",
       "  </tbody>\n",
       "</table>\n",
       "</div>"
      ],
      "text/plain": [
       "              mean\n",
       "BANKING           \n",
       "False    11.203704\n",
       "True     14.240000"
      ]
     },
     "execution_count": 40,
     "metadata": {},
     "output_type": "execute_result"
    }
   ],
   "source": [
    "wkday.groupby(\"BANKING\").AVAILABLE_BIKES.agg([\"mean\"])"
   ]
  },
  {
   "cell_type": "code",
   "execution_count": 41,
   "id": "626dafe5",
   "metadata": {},
   "outputs": [
    {
     "data": {
      "text/html": [
       "<div>\n",
       "<style scoped>\n",
       "    .dataframe tbody tr th:only-of-type {\n",
       "        vertical-align: middle;\n",
       "    }\n",
       "\n",
       "    .dataframe tbody tr th {\n",
       "        vertical-align: top;\n",
       "    }\n",
       "\n",
       "    .dataframe thead th {\n",
       "        text-align: right;\n",
       "    }\n",
       "</style>\n",
       "<table border=\"1\" class=\"dataframe\">\n",
       "  <thead>\n",
       "    <tr style=\"text-align: right;\">\n",
       "      <th></th>\n",
       "      <th>mean</th>\n",
       "    </tr>\n",
       "    <tr>\n",
       "      <th>BANKING</th>\n",
       "      <th></th>\n",
       "    </tr>\n",
       "  </thead>\n",
       "  <tbody>\n",
       "    <tr>\n",
       "      <th>False</th>\n",
       "      <td>12.208333</td>\n",
       "    </tr>\n",
       "    <tr>\n",
       "      <th>True</th>\n",
       "      <td>11.400000</td>\n",
       "    </tr>\n",
       "  </tbody>\n",
       "</table>\n",
       "</div>"
      ],
      "text/plain": [
       "              mean\n",
       "BANKING           \n",
       "False    12.208333\n",
       "True     11.400000"
      ]
     },
     "execution_count": 41,
     "metadata": {},
     "output_type": "execute_result"
    }
   ],
   "source": [
    "wkend.groupby(\"BANKING\").AVAILABLE_BIKES.agg([\"mean\"])"
   ]
  },
  {
   "cell_type": "markdown",
   "id": "2cbda1e7",
   "metadata": {},
   "source": [
    "In the presence of a credit card enabled machine on weekends, the available bikes are lesser compared to when its not, while on weekdays, the presence of credit card enabled machine promotes more available bikes comparred to when there's not.\n",
    "which means that the presence of a credit card enable machine i.e payment terminal directly influences bike usage "
   ]
  },
  {
   "cell_type": "markdown",
   "id": "c46fca0a",
   "metadata": {},
   "source": [
    "5. Given that the presence of a credit card enabled machine would influece the bike usage, our next question was to determine the total available bikes, bike stand and available bikes which has a credit card enabled machine in its facility during weekends and weekdays"
   ]
  },
  {
   "cell_type": "code",
   "execution_count": 18,
   "id": "4991d9cb",
   "metadata": {},
   "outputs": [
    {
     "data": {
      "text/html": [
       "<div>\n",
       "<style scoped>\n",
       "    .dataframe tbody tr th:only-of-type {\n",
       "        vertical-align: middle;\n",
       "    }\n",
       "\n",
       "    .dataframe tbody tr th {\n",
       "        vertical-align: top;\n",
       "    }\n",
       "\n",
       "    .dataframe thead th {\n",
       "        text-align: right;\n",
       "    }\n",
       "</style>\n",
       "<table border=\"1\" class=\"dataframe\">\n",
       "  <thead>\n",
       "    <tr style=\"text-align: right;\">\n",
       "      <th></th>\n",
       "      <th>AVAILABLE_BIKES</th>\n",
       "      <th>AVAILABLE_BIKE_STANDS</th>\n",
       "      <th>BIKE_STANDS</th>\n",
       "    </tr>\n",
       "    <tr>\n",
       "      <th>BANKING</th>\n",
       "      <th></th>\n",
       "      <th></th>\n",
       "      <th></th>\n",
       "    </tr>\n",
       "  </thead>\n",
       "  <tbody>\n",
       "    <tr>\n",
       "      <th>False</th>\n",
       "      <td>12100</td>\n",
       "      <td>22726</td>\n",
       "      <td>34870</td>\n",
       "    </tr>\n",
       "    <tr>\n",
       "      <th>True</th>\n",
       "      <td>712</td>\n",
       "      <td>577</td>\n",
       "      <td>1290</td>\n",
       "    </tr>\n",
       "  </tbody>\n",
       "</table>\n",
       "</div>"
      ],
      "text/plain": [
       "         AVAILABLE_BIKES  AVAILABLE_BIKE_STANDS  BIKE_STANDS\n",
       "BANKING                                                     \n",
       "False              12100                  22726        34870\n",
       "True                 712                    577         1290"
      ]
     },
     "execution_count": 18,
     "metadata": {},
     "output_type": "execute_result"
    }
   ],
   "source": [
    "grouped = wkday.groupby(\"BANKING\")\n",
    "grouped[\"AVAILABLE_BIKES\", \"AVAILABLE_BIKE_STANDS\",\"BIKE_STANDS\"].sum()"
   ]
  },
  {
   "cell_type": "code",
   "execution_count": 135,
   "id": "d9c5fc54",
   "metadata": {},
   "outputs": [
    {
     "data": {
      "text/html": [
       "<div>\n",
       "<style scoped>\n",
       "    .dataframe tbody tr th:only-of-type {\n",
       "        vertical-align: middle;\n",
       "    }\n",
       "\n",
       "    .dataframe tbody tr th {\n",
       "        vertical-align: top;\n",
       "    }\n",
       "\n",
       "    .dataframe thead th {\n",
       "        text-align: right;\n",
       "    }\n",
       "</style>\n",
       "<table border=\"1\" class=\"dataframe\">\n",
       "  <thead>\n",
       "    <tr style=\"text-align: right;\">\n",
       "      <th></th>\n",
       "      <th>AVAILABLE_BIKES</th>\n",
       "      <th>AVAILABLE_BIKE_STANDS</th>\n",
       "      <th>BIKE_STANDS</th>\n",
       "    </tr>\n",
       "    <tr>\n",
       "      <th>BANKING</th>\n",
       "      <th></th>\n",
       "      <th></th>\n",
       "      <th></th>\n",
       "    </tr>\n",
       "  </thead>\n",
       "  <tbody>\n",
       "    <tr>\n",
       "      <th>False</th>\n",
       "      <td>13185</td>\n",
       "      <td>21672</td>\n",
       "      <td>34870</td>\n",
       "    </tr>\n",
       "    <tr>\n",
       "      <th>True</th>\n",
       "      <td>570</td>\n",
       "      <td>720</td>\n",
       "      <td>1290</td>\n",
       "    </tr>\n",
       "  </tbody>\n",
       "</table>\n",
       "</div>"
      ],
      "text/plain": [
       "         AVAILABLE_BIKES  AVAILABLE_BIKE_STANDS  BIKE_STANDS\n",
       "BANKING                                                     \n",
       "False              13185                  21672        34870\n",
       "True                 570                    720         1290"
      ]
     },
     "execution_count": 135,
     "metadata": {},
     "output_type": "execute_result"
    }
   ],
   "source": [
    "grouped = wkend.groupby(\"BANKING\")\n",
    "grouped[\"AVAILABLE_BIKES\", \"AVAILABLE_BIKE_STANDS\",\"BIKE_STANDS\"].sum()"
   ]
  },
  {
   "cell_type": "markdown",
   "id": "36780154",
   "metadata": {},
   "source": [
    "The results indicate that there are more bike stands available on weekends when a credit card-enabled machine is available than there are on weekdays when there are less bike stands available. The station is operational since there are more available bike stands than there are available bikes."
   ]
  },
  {
   "cell_type": "markdown",
   "id": "8f70c2b2",
   "metadata": {},
   "source": []
  },
  {
   "cell_type": "markdown",
   "id": "600db64f",
   "metadata": {},
   "source": [
    "The following results are reached after doing an exploratory analysis on Dublin bike usage on weekdays and weekends using our real-time dataset from JCDecaux;\n",
    "1. More people use bicycles throughout the week than during the weekend.\n",
    "2. MountJoy Square East, the busiest stop on weekdays, has less available bikes than the busiest station on weekends.\n",
    "3. The availability of a credit card reader affects bike use on both weekdays and weekends.\n",
    "In summary, people tend to utilize Dublin Bike more frequently during the weekdays when a payment terminal is present than during the weekends."
   ]
  },
  {
   "cell_type": "markdown",
   "id": "cfe07907",
   "metadata": {},
   "source": []
  }
 ],
 "metadata": {
  "kernelspec": {
   "display_name": "Python 3 (ipykernel)",
   "language": "python",
   "name": "python3"
  },
  "language_info": {
   "codemirror_mode": {
    "name": "ipython",
    "version": 3
   },
   "file_extension": ".py",
   "mimetype": "text/x-python",
   "name": "python",
   "nbconvert_exporter": "python",
   "pygments_lexer": "ipython3",
   "version": "3.9.7"
  }
 },
 "nbformat": 4,
 "nbformat_minor": 5
}
